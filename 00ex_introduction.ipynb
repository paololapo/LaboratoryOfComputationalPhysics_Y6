{
 "cells": [
  {
   "cell_type": "markdown",
   "metadata": {},
   "source": [
    "1. The MickeyMouse problem\n",
    "\n",
    "a) Write a program that prints the numbers from 1 to 100. But for multiples of 3 print `Mickey` instead of the corresponding number and for the multiples of 5 print `Mouse`. For numbers which are multiples of both three and five print `MickeyMouse`\n",
    "\n",
    "b) Put the result in a tuple and substitute `Mickey` with `Donald` and `Mouse` with `Duck`"
   ]
  },
  {
   "cell_type": "code",
   "execution_count": 1,
   "metadata": {},
   "outputs": [
    {
     "name": "stdout",
     "output_type": "stream",
     "text": [
      "1\n",
      "2\n",
      "Mickey\n",
      "4\n",
      "Mouse\n",
      "Mickey\n",
      "7\n",
      "8\n",
      "Mickey\n",
      "Mouse\n",
      "11\n",
      "Mickey\n",
      "13\n",
      "14\n",
      "MickeyMouse\n",
      "16\n",
      "17\n",
      "Mickey\n",
      "19\n",
      "Mouse\n",
      "Mickey\n",
      "22\n",
      "23\n",
      "Mickey\n",
      "Mouse\n",
      "26\n",
      "Mickey\n",
      "28\n",
      "29\n",
      "MickeyMouse\n",
      "31\n",
      "32\n",
      "Mickey\n",
      "34\n",
      "Mouse\n",
      "Mickey\n",
      "37\n",
      "38\n",
      "Mickey\n",
      "Mouse\n",
      "41\n",
      "Mickey\n",
      "43\n",
      "44\n",
      "MickeyMouse\n",
      "46\n",
      "47\n",
      "Mickey\n",
      "49\n",
      "Mouse\n",
      "Mickey\n",
      "52\n",
      "53\n",
      "Mickey\n",
      "Mouse\n",
      "56\n",
      "Mickey\n",
      "58\n",
      "59\n",
      "MickeyMouse\n",
      "61\n",
      "62\n",
      "Mickey\n",
      "64\n",
      "Mouse\n",
      "Mickey\n",
      "67\n",
      "68\n",
      "Mickey\n",
      "Mouse\n",
      "71\n",
      "Mickey\n",
      "73\n",
      "74\n",
      "MickeyMouse\n",
      "76\n",
      "77\n",
      "Mickey\n",
      "79\n",
      "Mouse\n",
      "Mickey\n",
      "82\n",
      "83\n",
      "Mickey\n",
      "Mouse\n",
      "86\n",
      "Mickey\n",
      "88\n",
      "89\n",
      "MickeyMouse\n",
      "91\n",
      "92\n",
      "Mickey\n",
      "94\n",
      "Mouse\n",
      "Mickey\n",
      "97\n",
      "98\n",
      "Mickey\n"
     ]
    }
   ],
   "source": [
    "#1.a\n",
    "for i in range(1, 100):\n",
    "    if i%5==0 and i%3==0: \n",
    "        print(\"MickeyMouse\")\n",
    "    elif i%3==0:\n",
    "        print(\"Mickey\")\n",
    "    elif i%5==0:\n",
    "        print(\"Mouse\")\n",
    "    else:\n",
    "        print(i)"
   ]
  },
  {
   "cell_type": "code",
   "execution_count": 20,
   "metadata": {},
   "outputs": [
    {
     "data": {
      "text/plain": [
       "(1,\n",
       " 2,\n",
       " 'Donald',\n",
       " 4,\n",
       " 'Duck',\n",
       " 'Donald',\n",
       " 7,\n",
       " 8,\n",
       " 'Donald',\n",
       " 'Duck',\n",
       " 11,\n",
       " 'Donald',\n",
       " 13,\n",
       " 14,\n",
       " 'MickeyMouse',\n",
       " 16,\n",
       " 17,\n",
       " 'Donald',\n",
       " 19,\n",
       " 'Duck',\n",
       " 'Donald',\n",
       " 22,\n",
       " 23,\n",
       " 'Donald',\n",
       " 'Duck',\n",
       " 26,\n",
       " 'Donald',\n",
       " 28,\n",
       " 29,\n",
       " 'MickeyMouse',\n",
       " 31,\n",
       " 32,\n",
       " 'Donald',\n",
       " 34,\n",
       " 'Duck',\n",
       " 'Donald',\n",
       " 37,\n",
       " 38,\n",
       " 'Donald',\n",
       " 'Duck',\n",
       " 41,\n",
       " 'Donald',\n",
       " 43,\n",
       " 44,\n",
       " 'MickeyMouse',\n",
       " 46,\n",
       " 47,\n",
       " 'Donald',\n",
       " 49,\n",
       " 'Duck',\n",
       " 'Donald',\n",
       " 52,\n",
       " 53,\n",
       " 'Donald',\n",
       " 'Duck',\n",
       " 56,\n",
       " 'Donald',\n",
       " 58,\n",
       " 59,\n",
       " 'MickeyMouse',\n",
       " 61,\n",
       " 62,\n",
       " 'Donald',\n",
       " 64,\n",
       " 'Duck',\n",
       " 'Donald',\n",
       " 67,\n",
       " 68,\n",
       " 'Donald',\n",
       " 'Duck',\n",
       " 71,\n",
       " 'Donald',\n",
       " 73,\n",
       " 74,\n",
       " 'MickeyMouse',\n",
       " 76,\n",
       " 77,\n",
       " 'Donald',\n",
       " 79,\n",
       " 'Duck',\n",
       " 'Donald',\n",
       " 82,\n",
       " 83,\n",
       " 'Donald',\n",
       " 'Duck',\n",
       " 86,\n",
       " 'Donald',\n",
       " 88,\n",
       " 89,\n",
       " 'MickeyMouse',\n",
       " 91,\n",
       " 92,\n",
       " 'Donald',\n",
       " 94,\n",
       " 'Duck',\n",
       " 'Donald',\n",
       " 97,\n",
       " 98,\n",
       " 'Donald')"
      ]
     },
     "execution_count": 20,
     "metadata": {},
     "output_type": "execute_result"
    }
   ],
   "source": [
    "#1.b\n",
    "#Create the tuple and fill it\n",
    "t = ()\n",
    "for i in range(1, 100):\n",
    "    if i%5==0 and i%3==0: \n",
    "        t = t + (\"MickeyMouse\",)\n",
    "    elif i%3==0:\n",
    "        t = t +(\"Mickey\",)\n",
    "    elif i%5==0:\n",
    "        t = t + (\"Mouse\",)\n",
    "    else:\n",
    "        t = t + (i,)\n",
    "\n",
    "#Make the changes in a new tuple\n",
    "new_t = ()\n",
    "for j in range(len(t)):\n",
    "    #Save element\n",
    "    e = t[j]\n",
    "\n",
    "    #Make changes if needed\n",
    "    if t[j] == \"Mickey\":\n",
    "        e = \"Donald\"\n",
    "    elif t[j] == \"Mouse\":\n",
    "        e = \"Duck\"\n",
    "    \n",
    "    #Add element to the list\n",
    "    new_t = new_t + (e,)\n",
    "\n",
    "#Save results in t and clear space\n",
    "t = new_t\n",
    "del new_t\n",
    "\n",
    "t"
   ]
  },
  {
   "cell_type": "code",
   "execution_count": 28,
   "metadata": {},
   "outputs": [
    {
     "data": {
      "text/plain": [
       "('1',\n",
       " '2',\n",
       " 'Donald',\n",
       " '4',\n",
       " 'Duck',\n",
       " 'Donald',\n",
       " '7',\n",
       " '8',\n",
       " 'Donald',\n",
       " 'Duck',\n",
       " '11',\n",
       " 'Donald',\n",
       " '13',\n",
       " '14',\n",
       " 'DonaldDuck',\n",
       " '16',\n",
       " '17',\n",
       " 'Donald',\n",
       " '19',\n",
       " 'Duck',\n",
       " 'Donald',\n",
       " '22',\n",
       " '23',\n",
       " 'Donald',\n",
       " 'Duck',\n",
       " '26',\n",
       " 'Donald',\n",
       " '28',\n",
       " '29',\n",
       " 'DonaldDuck',\n",
       " '31',\n",
       " '32',\n",
       " 'Donald',\n",
       " '34',\n",
       " 'Duck',\n",
       " 'Donald',\n",
       " '37',\n",
       " '38',\n",
       " 'Donald',\n",
       " 'Duck',\n",
       " '41',\n",
       " 'Donald',\n",
       " '43',\n",
       " '44',\n",
       " 'DonaldDuck',\n",
       " '46',\n",
       " '47',\n",
       " 'Donald',\n",
       " '49',\n",
       " 'Duck',\n",
       " 'Donald',\n",
       " '52',\n",
       " '53',\n",
       " 'Donald',\n",
       " 'Duck',\n",
       " '56',\n",
       " 'Donald',\n",
       " '58',\n",
       " '59',\n",
       " 'DonaldDuck',\n",
       " '61',\n",
       " '62',\n",
       " 'Donald',\n",
       " '64',\n",
       " 'Duck',\n",
       " 'Donald',\n",
       " '67',\n",
       " '68',\n",
       " 'Donald',\n",
       " 'Duck',\n",
       " '71',\n",
       " 'Donald',\n",
       " '73',\n",
       " '74',\n",
       " 'DonaldDuck',\n",
       " '76',\n",
       " '77',\n",
       " 'Donald',\n",
       " '79',\n",
       " 'Duck',\n",
       " 'Donald',\n",
       " '82',\n",
       " '83',\n",
       " 'Donald',\n",
       " 'Duck',\n",
       " '86',\n",
       " 'Donald',\n",
       " '88',\n",
       " '89',\n",
       " 'DonaldDuck',\n",
       " '91',\n",
       " '92',\n",
       " 'Donald',\n",
       " '94',\n",
       " 'Duck',\n",
       " 'Donald',\n",
       " '97',\n",
       " '98',\n",
       " 'Donald')"
      ]
     },
     "execution_count": 28,
     "metadata": {},
     "output_type": "execute_result"
    }
   ],
   "source": [
    "#1.b - other way (suboptimal)\n",
    "\n",
    "#Create the tuple and fill it\n",
    "t = ()\n",
    "for i in range(1, 100):\n",
    "    if i%5==0 and i%3==0: \n",
    "        t = t + (\"MickeyMouse\",)\n",
    "    elif i%3==0:\n",
    "        t = t +(\"Mickey\",)\n",
    "    elif i%5==0:\n",
    "        t = t + (\"Mouse\",)\n",
    "    else:\n",
    "        t = t + (i,)\n",
    "\n",
    "#Note that you have to cast integer into string to performe replacement\n",
    "new_t = tuple (str(e).replace(\"Mickey\", \"Donald\").replace(\"Mouse\", \"Duck\") for e in t)\n",
    "new_t"
   ]
  },
  {
   "cell_type": "markdown",
   "metadata": {},
   "source": [
    "2\\. The swap function\n",
    "\n",
    "Write a function that swap the values of two input variables x and y (whatever the type). Try to do that also without a temporary variable"
   ]
  },
  {
   "cell_type": "code",
   "execution_count": 29,
   "metadata": {},
   "outputs": [
    {
     "name": "stdout",
     "output_type": "stream",
     "text": [
      "3 2\n",
      "3 2\n"
     ]
    }
   ],
   "source": [
    "#The python way\n",
    "x = 2\n",
    "y = 3\n",
    "\n",
    "x, y = y, x\n",
    "print(x, y)\n",
    "\n",
    "\n",
    "#The standard way\n",
    "x = 2\n",
    "y = 3\n",
    "\n",
    "t = x\n",
    "x = y\n",
    "y = t\n",
    "del t\n",
    "print(x, y)"
   ]
  },
  {
   "cell_type": "markdown",
   "metadata": {},
   "source": [
    "3\\. Computing the distance\n",
    "\n",
    "Write a function that calculates and returns the euclidean distance between two points *u* and *v*, where *u* and *v* are both 2-tuples *(x,y)*. For example, if *u=(3,0)* and *v=(0,4)*, the function should return 5"
   ]
  },
  {
   "cell_type": "code",
   "execution_count": 33,
   "metadata": {},
   "outputs": [
    {
     "data": {
      "text/plain": [
       "5.0"
      ]
     },
     "execution_count": 33,
     "metadata": {},
     "output_type": "execute_result"
    }
   ],
   "source": [
    "u = (3, 0)\n",
    "v = (0, 4)\n",
    "\n",
    "dist = lambda x, y: ((x[0]+y[0])**2 + (x[1]+y[1])**2)**0.5\n",
    "dist(u, v)"
   ]
  },
  {
   "cell_type": "markdown",
   "metadata": {},
   "source": [
    "4\\. Counting letters\n",
    "\n",
    "Write a program to calculate the number of times each character occurs in a given string *s*. Ignore differneces in capitalization"
   ]
  },
  {
   "cell_type": "code",
   "execution_count": 32,
   "metadata": {},
   "outputs": [
    {
     "name": "stdout",
     "output_type": "stream",
     "text": [
      "{'w': 2, 'r': 17, 'i': 14, 't': 19, 'e': 22, ' ': 41, 'a': 7, 'p': 8, 'o': 13, 'g': 1, 'm': 12, 'h': 9, 'n': 10, 's': 9, 'u': 9, 'b': 5, 'f': 10, '1': 2, '0': 2, '.': 2, 'l': 6, 'c': 3, 'k': 2, 'y': 2, 'd': 3, 'v': 2}\n"
     ]
    }
   ],
   "source": [
    "s=\"Write a program that prints the numbers from 1 to 100. \\\n",
    "But for multiples of three print Mickey instead of the number and for the multiples of five print Mouse. \\\n",
    "For numbers which are multiples of both three and five print MickeyMouse\"\n",
    "\n",
    "d = {}\n",
    "for e in s:\n",
    "    e = e.lower()\n",
    "    if e in d:\n",
    "        d[e] += 1\n",
    "    else:\n",
    "        d[e] = 1\n",
    "\n",
    "print(d)"
   ]
  },
  {
   "cell_type": "markdown",
   "metadata": {},
   "source": [
    "5\\. Isolating the unique\n",
    "\n",
    "Write a function that determines and count the unique numbers in the list *l*"
   ]
  },
  {
   "cell_type": "code",
   "execution_count": 5,
   "metadata": {},
   "outputs": [
    {
     "name": "stdout",
     "output_type": "stream",
     "text": [
      "Result using a set: 37\n",
      "Result using a set: 54\n"
     ]
    }
   ],
   "source": [
    "l = [36, 45, 58, 3, 74, 96, 64, 45, 31, 10, 24, 19, 33, 86, 99, 18, 63, 70, 85,\n",
    " 85, 63, 47, 56, 42, 70, 84, 88, 55, 20, 54, 8, 56, 51, 79, 81, 57, 37, 91,\n",
    " 1, 84, 84, 36, 66, 9, 89, 50, 42, 91, 50, 95, 90, 98, 39, 16, 82, 31, 92, 41,\n",
    " 45, 30, 66, 70, 34, 85, 94, 5, 3, 36, 72, 91, 84, 34, 87, 75, 53, 51, 20, 89, 51, 20]\n",
    "\n",
    "#List: only the values that appear once and only once \n",
    "unique_vars = [e for e in l if l.count(e) == 1]\n",
    "print(\"Result using a set:\", len(unique_vars))\n",
    "\n",
    "### Should I use the set instead? Interpretation problem! ###\n",
    "#Set: the values that appear at least once\n",
    "set_l = set(l)\n",
    "print(\"Result using a set:\", len(set_l))"
   ]
  },
  {
   "cell_type": "markdown",
   "metadata": {},
   "source": [
    "6\\. Combination of functions\n",
    "\n",
    "Write two functions - one that returns the square of a number, and one that returns the cube. Now write a third function that returns the number raised to the 6th power using the two previous functions."
   ]
  },
  {
   "cell_type": "code",
   "execution_count": 7,
   "metadata": {},
   "outputs": [
    {
     "name": "stdout",
     "output_type": "stream",
     "text": [
      "9 27 729\n"
     ]
    }
   ],
   "source": [
    "pow2 = lambda x: x**2\n",
    "pow3 = lambda x: x**3\n",
    "pow6 = lambda x: pow2(pow3(x))\n",
    "\n",
    "x = 3\n",
    "print(pow2(x), pow3(x), pow6(x))"
   ]
  },
  {
   "cell_type": "markdown",
   "metadata": {},
   "source": [
    "7\\. Cubes\n",
    "\n",
    "Create a list of the cubes of x for x in *[0, 10]* using:\n",
    "\n",
    "a) a for loop\n",
    "\n",
    "b) a list comprehension"
   ]
  },
  {
   "cell_type": "code",
   "execution_count": 9,
   "metadata": {},
   "outputs": [
    {
     "data": {
      "text/plain": [
       "([0, 1, 8, 27, 64, 125, 216, 343, 512, 729, 1000],\n",
       " [0, 1, 8, 27, 64, 125, 216, 343, 512, 729, 1000])"
      ]
     },
     "execution_count": 9,
     "metadata": {},
     "output_type": "execute_result"
    }
   ],
   "source": [
    "c1 = []\n",
    "for e in range(11):\n",
    "    c1.append(e**3)\n",
    "\n",
    "c2 = [e**3 for e in range(11)]\n",
    "\n",
    "c1, c2"
   ]
  },
  {
   "cell_type": "markdown",
   "metadata": {},
   "source": [
    "8\\. Nested list comprehension\n",
    "\n",
    "A Pythagorean triple is an integer solution to the Pythagorean theorem $a^2+b^2=c^2$. The first Pythagorean triple is (3,4,5). Find and put in a tuple all unique Pythagorean triples for the positive integers a, b and c less than 100."
   ]
  },
  {
   "cell_type": "code",
   "execution_count": 27,
   "metadata": {},
   "outputs": [],
   "source": [
    "#(3, 4, 5) \\neq (4, 3, 5)\n",
    "def find_triples():\n",
    "    t = ()\n",
    "    for a in range(1, 101):\n",
    "        #Iterate b from 1 to 101\n",
    "        for b in range(1, 101):\n",
    "            c_guess = (a**2 + b**2)**0.5\n",
    "\n",
    "            #Check if pythagorean triple\n",
    "            if c_guess == int(c_guess) and c_guess < 100:\n",
    "                triple = (a, b, int(c_guess))\n",
    "                t = t + (triple, )\n",
    "    \n",
    "    return t\n",
    "\n",
    "#(3, 4, 5) = (4, 3, 5)\n",
    "def find_triples2():\n",
    "    t = ()\n",
    "    for a in range(1, 101):\n",
    "        #That's the difference: b from 1 to a\n",
    "        for b in range(1, a):\n",
    "            c_guess = (a**2 + b**2)**0.5\n",
    "\n",
    "            #Check if pythagorean triple\n",
    "            if c_guess == int(c_guess) and c_guess < 100:\n",
    "                triple = (a, b, int(c_guess))\n",
    "                t = t + (triple, )\n",
    "    \n",
    "    return t\n"
   ]
  },
  {
   "cell_type": "code",
   "execution_count": 28,
   "metadata": {},
   "outputs": [
    {
     "name": "stdout",
     "output_type": "stream",
     "text": [
      "100\n",
      "50\n"
     ]
    }
   ],
   "source": [
    "res = find_triples()\n",
    "print(len(res))\n",
    "\n",
    "res = find_triples2()\n",
    "print(len(res))"
   ]
  },
  {
   "cell_type": "markdown",
   "metadata": {},
   "source": [
    "9\\. Normalization\n",
    "\n",
    "Write a function that takes a tuple of numbers and returns it with the entries normalized to one"
   ]
  },
  {
   "cell_type": "code",
   "execution_count": 29,
   "metadata": {},
   "outputs": [],
   "source": [
    "def normalize(t):\n",
    "    assert type(t) is tuple, \"Wrong type\"\n",
    "    norm = (t[0]**2 + t[1]**2)**0.5\n",
    "    return (t[0]/norm, t[1]/norm) "
   ]
  },
  {
   "cell_type": "code",
   "execution_count": 31,
   "metadata": {},
   "outputs": [
    {
     "ename": "AssertionError",
     "evalue": "Wrong type",
     "output_type": "error",
     "traceback": [
      "\u001b[1;31m---------------------------------------------------------------------------\u001b[0m",
      "\u001b[1;31mAssertionError\u001b[0m                            Traceback (most recent call last)",
      "\u001b[1;32mc:\\Users\\paolo\\Desktop\\LaboratoryOfComputationalPhysics_Y6\\00ex_introduction.ipynb Cell 22\u001b[0m line \u001b[0;36m2\n\u001b[0;32m      <a href='vscode-notebook-cell:/c%3A/Users/paolo/Desktop/LaboratoryOfComputationalPhysics_Y6/00ex_introduction.ipynb#X31sZmlsZQ%3D%3D?line=0'>1</a>\u001b[0m x \u001b[39m=\u001b[39m [\u001b[39m1\u001b[39m, \u001b[39m2\u001b[39m]\n\u001b[1;32m----> <a href='vscode-notebook-cell:/c%3A/Users/paolo/Desktop/LaboratoryOfComputationalPhysics_Y6/00ex_introduction.ipynb#X31sZmlsZQ%3D%3D?line=1'>2</a>\u001b[0m normalize(x)\n",
      "\u001b[1;32mc:\\Users\\paolo\\Desktop\\LaboratoryOfComputationalPhysics_Y6\\00ex_introduction.ipynb Cell 22\u001b[0m line \u001b[0;36m2\n\u001b[0;32m      <a href='vscode-notebook-cell:/c%3A/Users/paolo/Desktop/LaboratoryOfComputationalPhysics_Y6/00ex_introduction.ipynb#X31sZmlsZQ%3D%3D?line=0'>1</a>\u001b[0m \u001b[39mdef\u001b[39;00m \u001b[39mnormalize\u001b[39m(t):\n\u001b[1;32m----> <a href='vscode-notebook-cell:/c%3A/Users/paolo/Desktop/LaboratoryOfComputationalPhysics_Y6/00ex_introduction.ipynb#X31sZmlsZQ%3D%3D?line=1'>2</a>\u001b[0m     \u001b[39massert\u001b[39;00m \u001b[39mtype\u001b[39m(t) \u001b[39mis\u001b[39;00m \u001b[39mtuple\u001b[39m, \u001b[39m\"\u001b[39m\u001b[39mWrong type\u001b[39m\u001b[39m\"\u001b[39m\n\u001b[0;32m      <a href='vscode-notebook-cell:/c%3A/Users/paolo/Desktop/LaboratoryOfComputationalPhysics_Y6/00ex_introduction.ipynb#X31sZmlsZQ%3D%3D?line=2'>3</a>\u001b[0m     norm \u001b[39m=\u001b[39m (t[\u001b[39m0\u001b[39m]\u001b[39m*\u001b[39m\u001b[39m*\u001b[39m\u001b[39m2\u001b[39m \u001b[39m+\u001b[39m t[\u001b[39m1\u001b[39m]\u001b[39m*\u001b[39m\u001b[39m*\u001b[39m\u001b[39m2\u001b[39m)\u001b[39m*\u001b[39m\u001b[39m*\u001b[39m\u001b[39m0.5\u001b[39m\n\u001b[0;32m      <a href='vscode-notebook-cell:/c%3A/Users/paolo/Desktop/LaboratoryOfComputationalPhysics_Y6/00ex_introduction.ipynb#X31sZmlsZQ%3D%3D?line=3'>4</a>\u001b[0m     \u001b[39mreturn\u001b[39;00m (t[\u001b[39m0\u001b[39m]\u001b[39m/\u001b[39mnorm, t[\u001b[39m1\u001b[39m]\u001b[39m/\u001b[39mnorm)\n",
      "\u001b[1;31mAssertionError\u001b[0m: Wrong type"
     ]
    }
   ],
   "source": [
    "x = [1, 2]\n",
    "normalize(x)"
   ]
  },
  {
   "cell_type": "code",
   "execution_count": null,
   "metadata": {},
   "outputs": [],
   "source": []
  }
 ],
 "metadata": {
  "kernelspec": {
   "display_name": "Python 3 (ipykernel)",
   "language": "python",
   "name": "python3"
  },
  "language_info": {
   "codemirror_mode": {
    "name": "ipython",
    "version": 3
   },
   "file_extension": ".py",
   "mimetype": "text/x-python",
   "name": "python",
   "nbconvert_exporter": "python",
   "pygments_lexer": "ipython3",
   "version": "3.11.1"
  }
 },
 "nbformat": 4,
 "nbformat_minor": 2
}
