{
 "cells": [
  {
   "cell_type": "markdown",
   "metadata": {},
   "source": [
    "# Modules/packages/libraries\n",
    "\n",
    "Definitions:\n",
    "\n",
    "  * Modules:\n",
    "  A module is a file which contains python functions, global variables etc. It is nothing but .py file which has python executable code / statement.\n",
    "\n",
    "  * Packages:\n",
    "  A package is a namespace which contains multiple package/modules. It is a directory which contains a special file `__init__.py`\n",
    "  \n",
    "  * Libraries:\n",
    "  A library is a collection of various packages. There is no difference between package and python library conceptually.\n",
    "  \n",
    "Modules/packages/libraries can be easily \"imported\" and made functional in your python code. A set of libriaries comes with every python installation. Others can be installed locally and then imported. Your own code sitting somewhere else in your local computer can be imported too.\n",
    "\n",
    "Further details (very important!) on packages and how to create them can be found online. We may find the need of creating our own during the course."
   ]
  },
  {
   "cell_type": "code",
   "execution_count": 1,
   "metadata": {},
   "outputs": [
    {
     "name": "stdout",
     "output_type": "stream",
     "text": [
      "3.141592653589793\n",
      "3.141592653589793\n",
      "3.141592653589793\n"
     ]
    }
   ],
   "source": [
    "###### all the \"stuff\" that is in the math library can be used\n",
    "import math\n",
    "print(math.pi)\n",
    "\n",
    "# you can give math a label for convenience\n",
    "import math as m\n",
    "print (m.pi)\n",
    "\n",
    "# alternatively you can import only a given \"thing\" from the library\n",
    "from math import pi    #you can add several libraries at once, just list them separated by a \", \"\n",
    "print (pi)\n",
    "\n",
    "# or just get everything (very dangerous!!!)\n",
    "#from math import *\n",
    "#print (sqrt(7))"
   ]
  },
  {
   "cell_type": "markdown",
   "metadata": {},
   "source": [
    "To know which modules are there for you to use just type:"
   ]
  },
  {
   "cell_type": "code",
   "execution_count": 2,
   "metadata": {},
   "outputs": [
    {
     "name": "stdout",
     "output_type": "stream",
     "text": [
      "\n",
      "Please wait a moment while I gather a list of all available modules...\n",
      "\n"
     ]
    },
    {
     "name": "stderr",
     "output_type": "stream",
     "text": [
      "c:\\Users\\paolo\\AppData\\Local\\Programs\\Python\\Python311\\Lib\\pkgutil.py:92: UserWarning: The numpy.array_api submodule is still experimental. See NEP 47.\n",
      "  __import__(info.name)\n"
     ]
    },
    {
     "name": "stdout",
     "output_type": "stream",
     "text": [
      "test_sqlite3: testing with version '2.6.0', sqlite_version '3.39.4'\n"
     ]
    },
    {
     "name": "stderr",
     "output_type": "stream",
     "text": [
      "c:\\Users\\paolo\\AppData\\Local\\Programs\\Python\\Python311\\Lib\\site-packages\\_distutils_hack\\__init__.py:33: UserWarning: Setuptools is replacing distutils.\n",
      "  warnings.warn(\"Setuptools is replacing distutils.\")\n",
      "c:\\Users\\paolo\\AppData\\Local\\Programs\\Python\\Python311\\Lib\\pkgutil.py:107: VisibleDeprecationWarning:\n",
      "\n",
      "zmq.eventloop.minitornado is deprecated in pyzmq 14.0 and will be removed.\n",
      "    Install tornado itself to use zmq with the tornado IOLoop.\n",
      "    \n",
      "\n"
     ]
    },
    {
     "name": "stdout",
     "output_type": "stream",
     "text": [
      "IPython             click               mmap                sre_compile\n",
      "PIL                 click_plugins       mmapfile            sre_constants\n",
      "__future__          cligj               mmsystem            sre_parse\n",
      "__hello__           cmath               modulefinder        ssl\n",
      "__phello__          cmd                 mpmath              sspi\n",
      "_abc                code                msilib              sspicon\n",
      "_aix_support        codecs              msvcrt              stack_data\n",
      "_argon2_cffi_bindings codeop              multiprocessing     stat\n",
      "_ast                collections         munch               statistics\n",
      "_asyncio            colorama            nbclassic           statsmodels\n",
      "_bisect             colorsys            nbclient            stevedore\n",
      "_blake2             comm                nbconvert           string\n",
      "_bootsubprocess     commctrl            nbformat            stringprep\n",
      "_bz2                compileall          nest_asyncio        struct\n",
      "_cffi_backend       concurrent          netbios             subprocess\n",
      "_codecs             configparser        netrc               sunau\n",
      "_codecs_cn          contextlib          networkx            sympy\n",
      "_codecs_hk          contextvars         nntplib             symtable\n",
      "_codecs_iso2022     contourpy           nolds               sys\n",
      "_codecs_jp          copy                notebook            sysconfig\n",
      "_codecs_kr          copyreg             notebook_shim       tabnanny\n",
      "_codecs_tw          crypt               nt                  tarfile\n",
      "_collections        cryptography        ntlm_auth           telnetlib\n",
      "_collections_abc    csv                 ntpath              tempfile\n",
      "_compat_pickle      ctypes              ntsecuritycon       tenacity\n",
      "_compression        curses              nturl2path          terminado\n",
      "_contextvars        cycler              numbers             test\n",
      "_csv                dataclasses         numpoly             test_integration\n",
      "_ctypes             datetime            numpy               textwrap\n",
      "_ctypes_test        dateutil            oauthlib            this\n",
      "_datetime           dbi                 odbc                threading\n",
      "_decimal            dbm                 opcode              threadpoolctl\n",
      "_distutils_hack     dde                 operator            time\n",
      "_elementtree        debugpy             optparse            timeit\n",
      "_functools          decimal             os                  timer\n",
      "_hashlib            decorator           osmnx               tinycss2\n",
      "_heapq              defusedxml          packaging           tkinter\n",
      "_imp                difflib             pandas              token\n",
      "_io                 dill                pandocfilters       tokenize\n",
      "_json               dis                 parso               tomli\n",
      "_locale             distutils           past                tomllib\n",
      "_lsprof             doctest             pathlib             tornado\n",
      "_lzma               dot_parser          patsy               tqdm\n",
      "_markupbase         email               pbr                 trace\n",
      "_md5                encodings           pdb                 traceback\n",
      "_msi                ensurepip           perfmon             tracemalloc\n",
      "_multibytecodec     entrypoints         pickle              traitlets\n",
      "_multiprocessing    enum                pickleshare         tty\n",
      "_opcode             errno               pickletools         turtle\n",
      "_operator           executing           pip                 turtledemo\n",
      "_osx_support        fastjsonschema      pipes               tweepy\n",
      "_overlapped         faulthandler        pkg_resources       types\n",
      "_pickle             filecmp             pkgutil             typing\n",
      "_plotly_future_     fileinput           platform            typing_extensions\n",
      "_plotly_utils       fiona               platformdirs        unicodedata\n",
      "_py_abc             fnmatch             plistlib            unittest\n",
      "_pydecimal          folium              plotly              uri_template\n",
      "_pyio               fontTools           ply                 urllib\n",
      "_pyrsistent_version fqdn                poplib              urllib3\n",
      "_queue              fractions           posixpath           uu\n",
      "_random             ftplib              pprint              uuid\n",
      "_sha1               functools           profile             venv\n",
      "_sha256             future              program_source      warnings\n",
      "_sha3               gc                  prometheus_client   wave\n",
      "_sha512             genericpath         prompt_toolkit      wcwidth\n",
      "_signal             geopandas           pstats              weakref\n",
      "_sitebuiltins       getopt              psutil              webbrowser\n",
      "_socket             getpass             pty                 webcolors\n",
      "_sqlite3            gettext             pure_eval           webencodings\n",
      "_sre                glob                pvectorc            websocket\n",
      "_ssl                graphlib            py_compile          websockets\n",
      "_stat               graphviz            pyclbr              widgetsnbextension\n",
      "_statistics         gzip                pycparser           win2kras\n",
      "_string             hashlib             pydoc               win32api\n",
      "_strptime           heapq               pydoc_data          win32clipboard\n",
      "_struct             hmac                pydot               win32com\n",
      "_symtable           html                pydot_ng            win32con\n",
      "_testbuffer         http                pydotplus           win32console\n",
      "_testcapi           ibm_cloud_sdk_core  pyexpat             win32cred\n",
      "_testconsole        ibm_platform_services pygments            win32crypt\n",
      "_testimportmultiple idlelib             pylab               win32cryptcon\n",
      "_testinternalcapi   idna                pylatexenc          win32event\n",
      "_testmultiphase     imaplib             pyparsing           win32evtlog\n",
      "_thread             imghdr              pyproj              win32evtlogutil\n",
      "_threading_local    imp                 pyrsistent          win32file\n",
      "_tkinter            importlib           pythoncom           win32gui\n",
      "_tokenize           importlib_metadata  pythonjsonlogger    win32gui_struct\n",
      "_tracemalloc        inspect             pytrends            win32help\n",
      "_typing             io                  pytz                win32inet\n",
      "_uuid               ipaddress           pywin               win32inetcon\n",
      "_warnings           ipykernel           pywin32_bootstrap   win32job\n",
      "_weakref            ipykernel_launcher  pywin32_testutil    win32lz\n",
      "_weakrefset         ipympl              pywintypes          win32net\n",
      "_win32sysloader     ipython_genutils    qiskit              win32netcon\n",
      "_winapi             ipywidgets          qiskit_aer          win32pdh\n",
      "_winxptheme         isapi               qiskit_ibm_provider win32pdhquery\n",
      "_xxsubinterpreters  isoduration         qiskit_ibm_runtime  win32pdhutil\n",
      "_yaml               isympy              queue               win32pipe\n",
      "_zoneinfo           itertools           quopri              win32print\n",
      "abc                 jedi                random              win32process\n",
      "adodbapi            jinja2              rasutil             win32profile\n",
      "afxres              joblib              re                  win32ras\n",
      "aifc                json                regcheck            win32rcparser\n",
      "antigravity         json5               regutil             win32security\n",
      "anyio               jsonpointer         reprlib             win32service\n",
      "argon2              jsonschema          requests            win32serviceutil\n",
      "argparse            julia               requests_ntlm       win32timezone\n",
      "array               jupyter             requests_oauthlib   win32trace\n",
      "arrow               jupyter_client      rfc3339_validator   win32traceutil\n",
      "ast                 jupyter_core        rfc3986_validator   win32transaction\n",
      "asttokens           jupyter_events      rlcompleter         win32ts\n",
      "asynchat            jupyter_server      runpy               win32ui\n",
      "asyncio             jupyter_server_terminals rustworkx           win32uiole\n",
      "asyncore            jupyterlab          sched               win32verstamp\n",
      "atexit              jupyterlab_plotly   scipy               win32wnet\n",
      "attr                jupyterlab_pygments seaborn             winerror\n",
      "attrs               jupyterlab_server   secrets             winioctlcon\n",
      "audioop             jupyterlab_widgets  select              winnt\n",
      "babel               jwt                 selectors           winperf\n",
      "backcall            keyword             send2trash          winpty\n",
      "base64              kiwisolver          servicemanager      winreg\n",
      "bdb                 lib2to3             setuptools          winsound\n",
      "binascii            libfuturize         shapely             winxpgui\n",
      "bisect              libpasteurize       shelve              winxptheme\n",
      "bleach              linecache           shlex               wsgiref\n",
      "branca              locale              shutil              xdrlib\n",
      "bs4                 logging             signal              xml\n",
      "builtins            lxml                site                xmlrpc\n",
      "bz2                 lzma                six                 xxsubtype\n",
      "cProfile            mailbox             sklearn             yaml\n",
      "calendar            mailcap             smtpd               zipapp\n",
      "certifi             markupsafe          smtplib             zipfile\n",
      "cffi                marshal             sndhdr              zipimport\n",
      "cgi                 math                sniffio             zipp\n",
      "cgitb               matplotlib          socket              zlib\n",
      "chaospy             matplotlib_inline   socketserver        zmq\n",
      "charset_normalizer  mimetypes           soupsieve           zoneinfo\n",
      "chunk               mistune             sqlite3             ~umpy\n",
      "\n",
      "Enter any module name to get more help.  Or, type \"modules spam\" to search\n",
      "for modules whose name or summary contain the string \"spam\".\n",
      "\n",
      "None\n"
     ]
    }
   ],
   "source": [
    "print (help('modules') )\n"
   ]
  },
  {
   "cell_type": "markdown",
   "metadata": {},
   "source": [
    "`pip` is a special package. It is used from the command line to install properly (e.g. matching the version of the local packages) new packages. It can also be used from within python to check i.e. the set installed packages and their versions. N.B.: only the installed packages on top of the default ones will be listed "
   ]
  },
  {
   "cell_type": "code",
   "execution_count": 5,
   "metadata": {},
   "outputs": [
    {
     "name": "stdout",
     "output_type": "stream",
     "text": [
      "['anyio==3.6.2', 'argon2-cffi-bindings==21.2.0', 'argon2-cffi==21.3.0', 'arrow==1.2.3', 'asttokens==2.2.1', 'attrs==22.2.0', 'babel==2.11.0', 'backcall==0.2.0', 'beautifulsoup4==4.11.1', 'bleach==5.0.1', 'branca==0.6.0', 'certifi==2022.12.7', 'cffi==1.15.1', 'chaospy==4.3.13', 'charset-normalizer==2.1.1', 'click-plugins==1.1.1', 'click==8.1.3', 'cligj==0.7.2', 'colorama==0.4.6', 'comm==0.1.2', 'contourpy==1.0.6', 'cryptography==41.0.2', 'cycler==0.11.0', 'debugpy==1.6.5', 'decorator==5.1.1', 'defusedxml==0.7.1', 'dill==0.3.7', 'entrypoints==0.4', 'executing==1.2.0', 'fastjsonschema==2.16.2', 'fiona==1.8.22', 'folium==0.14.0', 'fonttools==4.38.0', 'fqdn==1.5.1', 'future==0.18.3', 'geopandas==0.12.2', 'graphviz==0.20.1', 'ibm-cloud-sdk-core==3.16.7', 'ibm-platform-services==0.38.0', 'idna==3.4', 'importlib-metadata==6.8.0', 'ipykernel==6.19.4', 'ipympl==0.9.2', 'ipython-genutils==0.2.0', 'ipython==8.8.0', 'ipywidgets==8.0.4', 'isoduration==20.11.0', 'jedi==0.18.2', 'jinja2==3.1.2', 'joblib==1.2.0', 'json5==0.9.11', 'jsonpointer==2.3', 'jsonschema==4.17.3', 'julia==0.6.1', 'jupyter-client==7.4.8', 'jupyter-core==5.1.2', 'jupyter-events==0.5.0', 'jupyter-server-terminals==0.4.3', 'jupyter-server==2.0.6', 'jupyterlab-pygments==0.2.2', 'jupyterlab-server==2.18.0', 'jupyterlab-widgets==3.0.5', 'jupyterlab==3.5.2', 'kiwisolver==1.4.4', 'lxml==4.9.2', 'markupsafe==2.1.1', 'matplotlib-inline==0.1.6', 'matplotlib==3.6.2', 'mistune==2.0.4', 'mpmath==1.3.0', 'munch==2.5.0', 'nbclassic==0.4.8', 'nbclient==0.7.2', 'nbconvert==7.2.7', 'nbformat==5.7.1', 'nest-asyncio==1.5.6', 'networkx==3.0', 'nolds==0.5.2', 'notebook-shim==0.2.2', 'notebook==6.5.2', 'ntlm-auth==1.5.0', 'numpoly==1.2.11', 'numpy==1.25.1', 'oauthlib==3.2.2', 'osmnx==1.3.0', 'packaging==22.0', 'pandas==1.5.2', 'pandocfilters==1.5.0', 'parso==0.8.3', 'patsy==0.5.3', 'pbr==5.11.1', 'pickleshare==0.7.5', 'pillow==9.4.0', 'pip==23.2.1', 'platformdirs==2.6.2', 'plotly==5.15.0', 'ply==3.11', 'prometheus-client==0.15.0', 'prompt-toolkit==3.0.36', 'psutil==5.9.5', 'pure-eval==0.2.2', 'pycparser==2.21', 'pydot-ng==2.0.0', 'pydot==1.4.2', 'pydotplus==2.0.2', 'pygments==2.14.0', 'pyjwt==2.8.0', 'pylatexenc==2.10', 'pyparsing==3.0.9', 'pyproj==3.4.1', 'pyrsistent==0.19.3', 'python-dateutil==2.8.2', 'python-json-logger==2.0.4', 'pytrends==4.9.0', 'pytz==2022.7', 'pywin32==305', 'pywinpty==2.0.10', 'pyyaml==6.0', 'pyzmq==24.0.1', 'qiskit-aer==0.12.2', 'qiskit-ibm-provider==0.6.2', 'qiskit-ibm-runtime==0.11.2', 'qiskit-ibmq-provider==0.20.2', 'qiskit-terra==0.24.2', 'qiskit==0.43.3', 'requests-ntlm==1.1.0', 'requests-oauthlib==1.3.1', 'requests==2.31.0', 'rfc3339-validator==0.1.4', 'rfc3986-validator==0.1.1', 'rustworkx==0.13.0', 'scikit-learn==1.2.0', 'scipy==1.11.1', 'seaborn==0.12.2', 'send2trash==1.8.0', 'setuptools==65.5.0', 'shapely==2.0.0', 'six==1.16.0', 'sniffio==1.3.0', 'soupsieve==2.3.2.post1', 'stack-data==0.6.2', 'statsmodels==0.14.0', 'stevedore==5.1.0', 'sympy==1.12', 'tenacity==8.2.2', 'terminado==0.17.1', 'threadpoolctl==3.1.0', 'tinycss2==1.2.1', 'tomli==2.0.1', 'tornado==6.2', 'tqdm==4.66.1', 'traitlets==5.8.0', 'tweepy==4.12.1', 'typing-extensions==4.7.1', 'uri-template==1.2.0', 'urllib3==1.26.13', 'wcwidth==0.2.5', 'webcolors==1.12', 'webencodings==0.5.1', 'websocket-client==1.6.1', 'websockets==11.0.3', 'widgetsnbextension==4.0.5', 'zipp==3.16.2']\n",
      "Except!\n"
     ]
    }
   ],
   "source": [
    "try:\n",
    "    # this doesn't work anymore\n",
    "    import pip\n",
    "    sorted([\"%s==%s\" % (i.key, i.version) for i in pip._internal.utils.misc.get_installed_distributions()])\n",
    "    print(\"Try\")\n",
    "\n",
    "except:\n",
    "    # use this instead\n",
    "    import pkg_resources\n",
    "    installed_packages = pkg_resources.working_set\n",
    "    installed_packages_list = sorted([\"%s==%s\" % (i.key, i.version)\n",
    "       for i in installed_packages])\n",
    "    print(installed_packages_list)\n",
    "    print(\"Except!\")\n"
   ]
  },
  {
   "cell_type": "markdown",
   "metadata": {},
   "source": [
    "# Functions"
   ]
  },
  {
   "cell_type": "code",
   "execution_count": 6,
   "metadata": {},
   "outputs": [
    {
     "name": "stdout",
     "output_type": "stream",
     "text": [
      "9\n",
      "27\n",
      "cube 27\n",
      "square 9\n"
     ]
    }
   ],
   "source": [
    "def square(x):\n",
    "    \"\"\"Square of x.\"\"\"\n",
    "    return x*x\n",
    "\n",
    "def cube(x):\n",
    "    \"\"\"Cube of x.\"\"\"\n",
    "    return x*x*x\n",
    "\n",
    "# create a dictionary of functions\n",
    "funcs = {\n",
    "    'square': square,\n",
    "    'cube': cube,\n",
    "}\n",
    "\n",
    "x = 3\n",
    "print(square(x))\n",
    "print(cube(x))\n",
    "\n",
    "for func in sorted(funcs):\n",
    "    print (func, funcs[func](x))"
   ]
  },
  {
   "cell_type": "markdown",
   "metadata": {},
   "source": [
    "## Functions arguments"
   ]
  },
  {
   "cell_type": "markdown",
   "metadata": {},
   "source": [
    "### NOT TRIVIAL"
   ]
  },
  {
   "cell_type": "markdown",
   "metadata": {},
   "source": [
    "What is passsed to a function is a copy of the input. Imagine we have a list *x =[1, 2, 3]*, i.e. a mutable object. If within the function the content of *x* is directly changed (e.g. *x[0] = 999*), then *x* changes outside the funciton as well. "
   ]
  },
  {
   "cell_type": "code",
   "execution_count": 11,
   "metadata": {},
   "outputs": [
    {
     "name": "stdout",
     "output_type": "stream",
     "text": [
      "[1, 2, 3]\n",
      "[999, 2, 3]\n",
      "[999, 2, 3]\n"
     ]
    }
   ],
   "source": [
    "def modify(x):\n",
    "    x[0] = 999\n",
    "    return x\n",
    "\n",
    "x = [1,2,3]\n",
    "print (x)\n",
    "print (modify(x))\n",
    "print (x)               #To \"modify\" you pass the view and not a copy!!!!!!"
   ]
  },
  {
   "cell_type": "markdown",
   "metadata": {},
   "source": [
    "However, if *x* is reassigned within the function to a new object (e.g. another list), then the copy of the name *x* now points to the new object, but *x* outside the function is unhcanged."
   ]
  },
  {
   "cell_type": "code",
   "execution_count": 12,
   "metadata": {},
   "outputs": [
    {
     "name": "stdout",
     "output_type": "stream",
     "text": [
      "[1, 2, 3]\n",
      "[4, 5, 6]\n",
      "[1, 2, 3]\n"
     ]
    }
   ],
   "source": [
    "def no_modify(x):\n",
    "    x = [4,5,6]\n",
    "    return x\n",
    "\n",
    "x = [1,2,3]\n",
    "print (x)\n",
    "print (no_modify(x))\n",
    "print (x)\n"
   ]
  },
  {
   "cell_type": "markdown",
   "metadata": {},
   "source": [
    "What if the function tries to modify the value of an immutable object?"
   ]
  },
  {
   "cell_type": "markdown",
   "metadata": {},
   "source": [
    "Binding of default arguments occurs at function definition:"
   ]
  },
  {
   "cell_type": "code",
   "execution_count": 13,
   "metadata": {},
   "outputs": [
    {
     "name": "stdout",
     "output_type": "stream",
     "text": [
      "[1]\n",
      "[1, 1]\n",
      "[9, 9, 9, 1]\n",
      "[1, 1, 1]\n",
      "[1, 1, 1, 1]\n"
     ]
    }
   ],
   "source": [
    "def f(x = []):\n",
    "    x.append(1)\n",
    "    return x\n",
    "\n",
    "print (f())\n",
    "print (f())\n",
    "print (f(x = [9,9,9]))\n",
    "print (f())\n",
    "print (f())"
   ]
  },
  {
   "cell_type": "markdown",
   "metadata": {},
   "source": [
    "Try to aviod that!!"
   ]
  },
  {
   "cell_type": "code",
   "execution_count": 14,
   "metadata": {},
   "outputs": [
    {
     "name": "stdout",
     "output_type": "stream",
     "text": [
      "[1]\n",
      "[1]\n",
      "[9, 9, 9, 1]\n",
      "[1]\n",
      "[1]\n"
     ]
    }
   ],
   "source": [
    "def f(x = None):\n",
    "    if x is None:\n",
    "        x = []\n",
    "    x.append(1)\n",
    "    return x\n",
    "\n",
    "print (f())\n",
    "print (f())\n",
    "print (f(x = [9,9,9]))\n",
    "print (f())\n",
    "print (f())"
   ]
  },
  {
   "cell_type": "markdown",
   "metadata": {},
   "source": [
    "In this case the function has not memory about the past code. Better approach in general"
   ]
  },
  {
   "cell_type": "markdown",
   "metadata": {},
   "source": [
    "## Higher order functions\n",
    "\n",
    "A function that uses another function as an input argument or returns a function is known as a higher-order function (HOF). The most familiar examples are `map` and `filter`."
   ]
  },
  {
   "cell_type": "markdown",
   "metadata": {},
   "source": [
    "### map\n",
    "\n",
    "The map function applies a function to each member of a collection: returns an iterator"
   ]
  },
  {
   "cell_type": "code",
   "execution_count": 16,
   "metadata": {},
   "outputs": [
    {
     "name": "stdout",
     "output_type": "stream",
     "text": [
      "[0, 1, 4, 9, 16]\n",
      "0\n",
      "1\n",
      "4\n",
      "9\n",
      "16\n"
     ]
    },
    {
     "data": {
      "text/plain": [
       "[0, 1, 4, 9, 16, 25]"
      ]
     },
     "execution_count": 16,
     "metadata": {},
     "output_type": "execute_result"
    }
   ],
   "source": [
    "x = list(map(square, range(5))) \n",
    "print (x)\n",
    "\n",
    "# Note the difference w.r.t python 2. In python 3 map retuns an iterator so you can do stuff like:\n",
    "for i in map(square,range(5)): print(i)\n",
    "\n",
    "# or\n",
    "[i for i in map(square,range(6))]"
   ]
  },
  {
   "cell_type": "markdown",
   "metadata": {},
   "source": [
    "### filter\n",
    "\n",
    "The filter function applies a predicate to each member of a collection, retaining only those members where the predicate is True. Also filter returns an iterator"
   ]
  },
  {
   "cell_type": "code",
   "execution_count": 18,
   "metadata": {},
   "outputs": [
    {
     "name": "stdout",
     "output_type": "stream",
     "text": [
      "[0, 2, 4]\n"
     ]
    }
   ],
   "source": [
    "def is_even(x):\n",
    "    return x%2 == 0\n",
    "\n",
    "print (list(filter(is_even, range(5))))"
   ]
  },
  {
   "cell_type": "markdown",
   "metadata": {},
   "source": [
    "Combinations in sequence of HOF are obviously possible"
   ]
  },
  {
   "cell_type": "code",
   "execution_count": 19,
   "metadata": {},
   "outputs": [
    {
     "data": {
      "text/plain": [
       "[0, 4, 16]"
      ]
     },
     "execution_count": 19,
     "metadata": {},
     "output_type": "execute_result"
    }
   ],
   "source": [
    "list(map(square, filter(is_even, range(5))))"
   ]
  },
  {
   "cell_type": "markdown",
   "metadata": {},
   "source": [
    "### reduce\n",
    "\n",
    "The reduce function reduces a collection using a binary operator to combine items two at a time. More often than not reduce can be substituted with a more efficient for loop. It is worth mentioning it for its key role in big-data applications together with map (the map-reduce paradigm). \n",
    "N.B.: it no loger exist as built-in function in python 3, it is now part of the `functools` library"
   ]
  },
  {
   "cell_type": "code",
   "execution_count": 20,
   "metadata": {},
   "outputs": [
    {
     "data": {
      "text/plain": [
       "15"
      ]
     },
     "execution_count": 20,
     "metadata": {},
     "output_type": "execute_result"
    }
   ],
   "source": [
    "from functools import reduce\n",
    "\n",
    "def my_add(x, y):\n",
    "    return x + y\n",
    "\n",
    "# another implementation of the sum function\n",
    "reduce(my_add, [1,2,3,4,5])"
   ]
  },
  {
   "cell_type": "markdown",
   "metadata": {},
   "source": [
    "### zip\n",
    "\n",
    "zip is useful when you need to iterate over matched elements of multiple lists. \n",
    "\n",
    "Note that zip does the operation only where possible"
   ]
  },
  {
   "cell_type": "code",
   "execution_count": 26,
   "metadata": {},
   "outputs": [
    {
     "name": "stdout",
     "output_type": "stream",
     "text": [
      "1 10 a\n",
      "2 20 b\n",
      "3 30 c\n"
     ]
    }
   ],
   "source": [
    "xs = [1, 2, 3, 4]\n",
    "ys = [10, 20, 30, 40]\n",
    "zs = ['a', 'b', 'c', ]\n",
    "\n",
    "for x, y, z in zip(xs, ys, zs):\n",
    "    print (x, y, z)"
   ]
  },
  {
   "cell_type": "markdown",
   "metadata": {},
   "source": [
    "### Custom HOF"
   ]
  },
  {
   "cell_type": "code",
   "execution_count": 27,
   "metadata": {},
   "outputs": [
    {
     "name": "stdout",
     "output_type": "stream",
     "text": [
      "30\n",
      "100\n"
     ]
    }
   ],
   "source": [
    "def custom_sum(xs, transform):\n",
    "    \"\"\"Returns the sum of xs after a user specified transform.\"\"\"\n",
    "    return sum(map(transform, xs))\n",
    "\n",
    "xs = range(5)\n",
    "print (custom_sum(xs, square))\n",
    "print (custom_sum(xs, cube))\n",
    "\n"
   ]
  },
  {
   "cell_type": "markdown",
   "metadata": {},
   "source": [
    "### Returning a function"
   ]
  },
  {
   "cell_type": "code",
   "execution_count": 28,
   "metadata": {},
   "outputs": [],
   "source": [
    "def make_logger(target):\n",
    "    def logger(data):\n",
    "        with open(target, 'a') as f:\n",
    "            f.write(data + '\\n')\n",
    "    return logger\n",
    "\n",
    "foo_logger = make_logger('foo.txt') #foo.txt will be created if not there already\n",
    "foo_logger('Hello')\n",
    "foo_logger('World')"
   ]
  },
  {
   "cell_type": "code",
   "execution_count": 29,
   "metadata": {},
   "outputs": [
    {
     "name": "stderr",
     "output_type": "stream",
     "text": [
      "\"cat\" non � riconosciuto come comando interno o esterno,\n",
      " un programma eseguibile o un file batch.\n"
     ]
    }
   ],
   "source": [
    "! cat 'foo.txt'"
   ]
  },
  {
   "cell_type": "markdown",
   "metadata": {},
   "source": [
    "## Anonimous functions (lambda)\n",
    "\n",
    "When using functional style, there is often the need to create specific functions that perform a limited task as input to a HOF such as map or filter. In such cases, these functions are often written as anonymous or lambda functions. \n",
    "The syntax is as follows:\n",
    "\n",
    "lambda *arguments* : *expression*\n",
    "\n",
    "\n",
    "If you find it hard to understand what a lambda function is doing, it should probably be rewritten as a regular function."
   ]
  },
  {
   "cell_type": "code",
   "execution_count": 30,
   "metadata": {},
   "outputs": [
    {
     "data": {
      "text/plain": [
       "7"
      ]
     },
     "execution_count": 30,
     "metadata": {},
     "output_type": "execute_result"
    }
   ],
   "source": [
    "suml = lambda x,y: x+y\n",
    "suml(3,4)"
   ]
  },
  {
   "cell_type": "code",
   "execution_count": 31,
   "metadata": {},
   "outputs": [
    {
     "data": {
      "text/plain": [
       "7"
      ]
     },
     "execution_count": 31,
     "metadata": {},
     "output_type": "execute_result"
    }
   ],
   "source": [
    "(lambda x,y: x+y)(3,4)"
   ]
  },
  {
   "cell_type": "code",
   "execution_count": 32,
   "metadata": {},
   "outputs": [
    {
     "name": "stdout",
     "output_type": "stream",
     "text": [
      "0\n",
      "1\n",
      "4\n",
      "9\n",
      "16\n"
     ]
    }
   ],
   "source": [
    "for i in map(lambda x: x*x, range(5)): print (i)"
   ]
  },
  {
   "cell_type": "code",
   "execution_count": null,
   "metadata": {},
   "outputs": [],
   "source": [
    "# what does this function do?\n",
    "from functools import reduce\n",
    "s1 = reduce(lambda x, y: x+y, map(lambda x: x**2, range(1,10)))\n",
    "print(s1)\n"
   ]
  },
  {
   "cell_type": "markdown",
   "metadata": {},
   "source": [
    "## Recursive functions "
   ]
  },
  {
   "cell_type": "code",
   "execution_count": 33,
   "metadata": {},
   "outputs": [
    {
     "name": "stdout",
     "output_type": "stream",
     "text": [
      "[1, 1, 2, 3, 5, 8, 13, 21, 34, 55]\n"
     ]
    }
   ],
   "source": [
    "def fib1(n):\n",
    "    \"\"\"Fib with recursion.\"\"\"\n",
    "\n",
    "    # base case\n",
    "    if n==0 or n==1:\n",
    "        return 1\n",
    "    # recursive case\n",
    "    else:\n",
    "        return fib1(n-1) + fib1(n-2)\n",
    "\n",
    "    \n",
    "print ([fib1(i) for i in range(10)])"
   ]
  },
  {
   "cell_type": "code",
   "execution_count": 34,
   "metadata": {},
   "outputs": [
    {
     "name": "stdout",
     "output_type": "stream",
     "text": [
      "[1, 1, 2, 3, 5, 8, 13, 21, 34, 55]\n"
     ]
    }
   ],
   "source": [
    "# In Python, a more efficient version that does not use recursion is\n",
    "\n",
    "def fib2(n):\n",
    "    \"\"\"Fib without recursion.\"\"\"\n",
    "    a, b = 0, 1\n",
    "    for i in range(1, n+1):\n",
    "        a, b = b, a+b\n",
    "    return b\n",
    "\n",
    "print ([fib2(i) for i in range(10)])"
   ]
  },
  {
   "cell_type": "code",
   "execution_count": 35,
   "metadata": {},
   "outputs": [
    {
     "name": "stdout",
     "output_type": "stream",
     "text": [
      "1.35 ms ± 14.3 µs per loop (mean ± std. dev. of 7 runs, 1,000 loops each)\n",
      "918 ns ± 85.4 ns per loop (mean ± std. dev. of 7 runs, 1,000,000 loops each)\n"
     ]
    }
   ],
   "source": [
    "# check indeed the timing:\n",
    "\n",
    "%timeit fib1(20) \n",
    "%timeit fib2(20)\n"
   ]
  },
  {
   "cell_type": "markdown",
   "metadata": {},
   "source": [
    "## Iterators\n",
    "\n",
    "Iterators represent streams of values. Because only one value is consumed at a time, they use very little memory. Use of iterators is very helpful for working with data sets too large to fit into RAM."
   ]
  },
  {
   "cell_type": "code",
   "execution_count": 36,
   "metadata": {},
   "outputs": [
    {
     "name": "stdout",
     "output_type": "stream",
     "text": [
      "1\n",
      "2\n",
      "3\n"
     ]
    },
    {
     "ename": "StopIteration",
     "evalue": "",
     "output_type": "error",
     "traceback": [
      "\u001b[1;31m---------------------------------------------------------------------------\u001b[0m",
      "\u001b[1;31mStopIteration\u001b[0m                             Traceback (most recent call last)",
      "\u001b[1;32mc:\\Users\\paolo\\Desktop\\LaboratoryOfComputationalPhysics_Y6\\01_Fundamentals.ipynb Cell 47\u001b[0m line \u001b[0;36m9\n\u001b[0;32m      <a href='vscode-notebook-cell:/c%3A/Users/paolo/Desktop/LaboratoryOfComputationalPhysics_Y6/01_Fundamentals.ipynb#X62sZmlsZQ%3D%3D?line=6'>7</a>\u001b[0m \u001b[39mprint\u001b[39m (\u001b[39mnext\u001b[39m(x_iter))\n\u001b[0;32m      <a href='vscode-notebook-cell:/c%3A/Users/paolo/Desktop/LaboratoryOfComputationalPhysics_Y6/01_Fundamentals.ipynb#X62sZmlsZQ%3D%3D?line=7'>8</a>\u001b[0m \u001b[39mprint\u001b[39m (\u001b[39mnext\u001b[39m(x_iter))\n\u001b[1;32m----> <a href='vscode-notebook-cell:/c%3A/Users/paolo/Desktop/LaboratoryOfComputationalPhysics_Y6/01_Fundamentals.ipynb#X62sZmlsZQ%3D%3D?line=8'>9</a>\u001b[0m \u001b[39mprint\u001b[39m (\u001b[39mnext\u001b[39;49m(x_iter))\n",
      "\u001b[1;31mStopIteration\u001b[0m: "
     ]
    }
   ],
   "source": [
    "# Iterators can be created from sequences with the built-in function iter()\n",
    "\n",
    "xs = [1,2,3]\n",
    "x_iter = iter(xs)\n",
    "\n",
    "print (next(x_iter))\n",
    "print (next(x_iter))\n",
    "print (next(x_iter))\n",
    "print (next(x_iter))"
   ]
  },
  {
   "cell_type": "code",
   "execution_count": 37,
   "metadata": {},
   "outputs": [
    {
     "name": "stdout",
     "output_type": "stream",
     "text": [
      "1\n",
      "2\n",
      "3\n"
     ]
    }
   ],
   "source": [
    "# Most commonly, iterators are used (automatically) within a for loop\n",
    "# which terminates when it encouters a StopIteration exception\n",
    "\n",
    "x_iter = iter(xs)\n",
    "for x in x_iter:\n",
    "    print (x)"
   ]
  },
  {
   "cell_type": "markdown",
   "metadata": {},
   "source": [
    "## More on comprehensions"
   ]
  },
  {
   "cell_type": "markdown",
   "metadata": {},
   "source": [
    "You can also add if statement after at the end of the comprehension. If you need also the \"else\", you probably should use it before the \"in\""
   ]
  },
  {
   "cell_type": "code",
   "execution_count": 44,
   "metadata": {},
   "outputs": [
    {
     "name": "stdout",
     "output_type": "stream",
     "text": [
      "<generator object <genexpr> at 0x000001F1870731D0>\n",
      "[0, 4, 16, 36, 64]\n",
      "{0, 1, 2, 3, 4, 5, 6, 7, 8, 9}\n",
      "{0: 'x', 1: 'x', 2: 'x', 3: 'x', 4: 'x', 5: 'x', 6: 'x', 7: 'x', 8: 'x', 9: 'x'}\n"
     ]
    }
   ],
   "source": [
    "# A generator expression\n",
    "print ((x for x in range(10)))\n",
    "\n",
    "# A list comprehesnnion\n",
    "print ([x**2 for x in range(10) if x%2==0])\n",
    "\n",
    "# A set comprehension\n",
    "print ({x for x in range(10)})\n",
    "\n",
    "# A dictionary comprehension\n",
    "print ({x: \"x\" for x in range(10)})"
   ]
  },
  {
   "cell_type": "markdown",
   "metadata": {},
   "source": [
    "## Useful Modules\n",
    "\n",
    "You may want to have a look at the content of the following modules for further usage of (HO) functions:\n",
    "  - [operator](https://docs.python.org/3/library/operator.html)\n",
    "  - [functools](https://docs.python.org/3/library/functools.html)\n",
    "  - [itertools](https://docs.python.org/3/library/itertools.html)\n",
    "  - [toolz](https://pypi.org/project/toolz/)\n",
    "  - [funcy](https://pypi.org/project/funcy/)"
   ]
  },
  {
   "cell_type": "markdown",
   "metadata": {},
   "source": [
    "## Decorators\n",
    "\n",
    "Decorators are a type of HOF that take a function and return a wrapped function that provides additional useful properties.\n",
    "\n",
    "Examples:\n",
    "\n",
    "  - logging\n",
    "  - profiling\n",
    "  - Just-In-Time (JIT) compilation"
   ]
  },
  {
   "cell_type": "code",
   "execution_count": 45,
   "metadata": {},
   "outputs": [],
   "source": [
    "def my_decorator(func):\n",
    "    def wrapper():\n",
    "        print(\"Something is happening before the function is called.\")\n",
    "        func()\n",
    "        print(\"Something is happening after the function is called.\")\n",
    "    return wrapper\n",
    "\n",
    "def say_whee():\n",
    "    print(\"Whee!\")\n",
    "\n",
    "say_whee = my_decorator(say_whee)"
   ]
  },
  {
   "cell_type": "code",
   "execution_count": 46,
   "metadata": {},
   "outputs": [
    {
     "name": "stdout",
     "output_type": "stream",
     "text": [
      "Something is happening before the function is called.\n",
      "Whee!\n",
      "Something is happening after the function is called.\n"
     ]
    }
   ],
   "source": [
    "say_whee()"
   ]
  },
  {
   "cell_type": "markdown",
   "metadata": {},
   "source": [
    "Python allows you to use decorators in a simpler way with the @ symbol, sometimes called the “pie” syntax"
   ]
  },
  {
   "cell_type": "code",
   "execution_count": 47,
   "metadata": {},
   "outputs": [],
   "source": [
    "def my_decorator(func):\n",
    "    def wrapper():\n",
    "        print(\"Something is happening before the function is called.\")\n",
    "        func()\n",
    "        print(\"Something is happening after the function is called.\")\n",
    "    return wrapper\n",
    "\n",
    "@my_decorator\n",
    "def say_whee():\n",
    "    print(\"Whee!\")"
   ]
  },
  {
   "cell_type": "code",
   "execution_count": 48,
   "metadata": {},
   "outputs": [
    {
     "name": "stdout",
     "output_type": "stream",
     "text": [
      "Something is happening before the function is called.\n",
      "Whee!\n",
      "Something is happening after the function is called.\n"
     ]
    }
   ],
   "source": [
    "say_whee()"
   ]
  },
  {
   "cell_type": "markdown",
   "metadata": {},
   "source": [
    "# Classes and Objects\n",
    "\n",
    "Old school object-oriented programming is possible and often used in python. Classes are defined similarly to standard object-oriented languages, with similar functionalities.\n",
    "\n",
    "The main python doc [page](https://docs.python.org/3/tutorial/classes.html) is worth reading through "
   ]
  },
  {
   "cell_type": "code",
   "execution_count": null,
   "metadata": {},
   "outputs": [],
   "source": [
    "class Pet:\n",
    "    # the \"constructor\"\n",
    "    def __init__(self, name, age):  #inizialize the elements of the class\n",
    "        self.name=name\n",
    "        self.age=age\n",
    "    # class functions take the \"self\" parameter !!!\n",
    "    def set_name(self,name):\n",
    "        self.name=name\n",
    "    def convert_age(self,factor):\n",
    "        self.age*=factor\n",
    "\n",
    "buddy=Pet(\"buddy\",12)\n",
    "print (buddy.name, buddy.age)\n",
    "buddy.age=3\n",
    "print (buddy.age)\n",
    "\n"
   ]
  },
  {
   "cell_type": "code",
   "execution_count": null,
   "metadata": {},
   "outputs": [],
   "source": [
    "# ineritance is straightforward\n",
    "class Dog(Pet):\n",
    "    # the following variables is \"global\", i.e. holds for all \"Dog\" objects\n",
    "    species = \"mammal\"\n",
    "    # functions can be redefined as usual\n",
    "    def convert_age(self):\n",
    "        self.age*=7\n",
    "    def set_species(self, species):\n",
    "        self.species = species\n",
    "        \n",
    "puppy=Dog(\"tobia\",10)\n",
    "print(puppy.name)\n",
    "puppy.convert_age()\n",
    "print(puppy.age)\n",
    "\n"
   ]
  },
  {
   "cell_type": "code",
   "execution_count": null,
   "metadata": {},
   "outputs": [],
   "source": []
  }
 ],
 "metadata": {
  "kernelspec": {
   "display_name": "Python 3 (ipykernel)",
   "language": "python",
   "name": "python3"
  },
  "language_info": {
   "codemirror_mode": {
    "name": "ipython",
    "version": 3
   },
   "file_extension": ".py",
   "mimetype": "text/x-python",
   "name": "python",
   "nbconvert_exporter": "python",
   "pygments_lexer": "ipython3",
   "version": "3.11.1"
  }
 },
 "nbformat": 4,
 "nbformat_minor": 2
}
