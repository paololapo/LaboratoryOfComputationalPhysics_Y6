{
 "cells": [
  {
   "cell_type": "markdown",
   "metadata": {},
   "source": [
    "1\\. Write a function that converts number representation, bin<->dec<->hex. (Clearly using the corresponding python built-in functions is not fair..)"
   ]
  },
  {
   "cell_type": "code",
   "execution_count": 1,
   "metadata": {},
   "outputs": [],
   "source": [
    "def conv(num, repr):\n",
    "    s_num = str(num)\n",
    "\n",
    "    if repr == \"bin\":\n",
    "        bin = num\n",
    "\n",
    "        #Bin to dec\n",
    "        dec = 0\n",
    "        for i in range(1, len(s_num)):\n",
    "            dec += int(s_num[i])*2**i\n",
    "        dec *= (-1)**int(s_num[0])\n",
    "\n",
    "        #Bin to exa\n",
    "        \n",
    "        \n",
    "        \n",
    "\n",
    "    return dec\n"
   ]
  },
  {
   "cell_type": "markdown",
   "metadata": {},
   "source": [
    "2\\. Write a function that converts a 32 bit word into a single precision floating point (i.e. interprets the various bits as sign, mantissa and exponent)"
   ]
  },
  {
   "cell_type": "code",
   "execution_count": 3,
   "metadata": {},
   "outputs": [
    {
     "data": {
      "text/plain": [
       "32"
      ]
     },
     "execution_count": 3,
     "metadata": {},
     "output_type": "execute_result"
    }
   ],
   "source": [
    "word = \"01010100101000010101010010101010\"\n",
    "len(word)"
   ]
  },
  {
   "cell_type": "code",
   "execution_count": 4,
   "metadata": {},
   "outputs": [
    {
     "data": {
      "text/plain": [
       "32"
      ]
     },
     "execution_count": 4,
     "metadata": {},
     "output_type": "execute_result"
    }
   ],
   "source": [
    "w = \"00000011111000000000000000000000\"\n",
    "len(w)"
   ]
  },
  {
   "cell_type": "code",
   "execution_count": 5,
   "metadata": {},
   "outputs": [],
   "source": [
    "def word_to_float(word):\n",
    "    assert len(word) == 32\n",
    "    bias = 127\n",
    "    s = int(word[0])\n",
    "    e = 0\n",
    "    for i in range(0, 8, 1):\n",
    "        exp_bits = word[1:9]\n",
    "        e += int(exp_bits[7-i])*2**i\n",
    "    f = 1\n",
    "    for i in range(1, 24):\n",
    "        f += 2**(-i)*int(word[8+i])\n",
    "    \n",
    "    print(s, f, e)\n",
    "\n",
    "    return (-1)**s*f*2**(e-bias)\n",
    "    "
   ]
  },
  {
   "cell_type": "code",
   "execution_count": 6,
   "metadata": {},
   "outputs": [
    {
     "name": "stdout",
     "output_type": "stream",
     "text": [
      "0 1.75 7\n"
     ]
    },
    {
     "data": {
      "text/plain": [
       "1.316553672920962e-36"
      ]
     },
     "execution_count": 6,
     "metadata": {},
     "output_type": "execute_result"
    }
   ],
   "source": [
    "word_to_float(w)"
   ]
  },
  {
   "cell_type": "markdown",
   "metadata": {},
   "source": [
    "3\\. Write a program to determine the underflow and overflow limits (within a factor of 2) for python on your computer. \n",
    "\n",
    "**Tips**: define two variables inizialized to 1 and halve/double them enough time to exceed the under/over-flow limits  "
   ]
  },
  {
   "cell_type": "code",
   "execution_count": 7,
   "metadata": {},
   "outputs": [
    {
     "name": "stdout",
     "output_type": "stream",
     "text": [
      "5e-324\n",
      "179769313486231590772930519078902473361797697894230657273430081157732675805500963132708477322407536021120113879871393357658789768814416622492847430639474124377767893424865485276302219601246094119453082952085005768838150682342462881473913110540827237163350510684586298239947245938479716304835356329624224137216\n"
     ]
    }
   ],
   "source": [
    "import sys\n",
    "\n",
    "over = 1\n",
    "under = 1\n",
    "\n",
    "while under / 2 > 0:\n",
    "    under /= 2\n",
    "\n",
    "while over < sys.float_info.max:\n",
    "    over *= 2\n",
    "\n",
    "print(under)\n",
    "print(over)"
   ]
  },
  {
   "cell_type": "markdown",
   "metadata": {},
   "source": [
    "4\\. Write a program to determine the machine precision\n",
    "\n",
    "**Tips**: define a new variable by adding a smaller and smaller value (proceeding similarly to prob. 2) to an original variable and check the point where the two are the same "
   ]
  },
  {
   "cell_type": "code",
   "execution_count": 14,
   "metadata": {},
   "outputs": [
    {
     "name": "stdout",
     "output_type": "stream",
     "text": [
      "1.1102230246251565e-16\n"
     ]
    }
   ],
   "source": [
    "eps = 1\n",
    "var1 = 1\n",
    "\n",
    "while(var1 < var1+eps):\n",
    "    eps /= 2\n",
    "\n",
    "print(eps)"
   ]
  },
  {
   "cell_type": "markdown",
   "metadata": {},
   "source": [
    "5\\. Write a function that takes in input three parameters $a$, $b$ and $c$ and prints out the two solutions to the quadratic equation $ax^2+bx+c=0$ using the standard formula:\n",
    "$$\n",
    "x=\\frac{-b\\pm\\sqrt{b^2-4ac}}{2a}\n",
    "$$\n",
    "\n",
    "(a) use the program to compute the solution for $a=0.001$, $b=1000$ and $c=0.001$\n",
    "\n",
    "(b) re-express the standard solution formula by multiplying top and bottom by $-b\\mp\\sqrt{b^2-4ac}$ and again find the solution for $a=0.001$, $b=1000$ and $c=0.001$. How does it compare with what previously obtained? Why?\n",
    "\n",
    "(c) write a function that compute the roots of a quadratic equation accurately in all cases"
   ]
  },
  {
   "cell_type": "code",
   "execution_count": 25,
   "metadata": {},
   "outputs": [
    {
     "name": "stdout",
     "output_type": "stream",
     "text": [
      "a: -9.999894245993346e-07 -500999.999999\n",
      "b: -1000010.5755125057 -1.000000000001e-06\n",
      "c -999999.999999 -1.000000000001e-06\n"
     ]
    }
   ],
   "source": [
    "def quadratic_formula(a, b, c):\n",
    "    #A\n",
    "    x1 = (-b+(b**2-4*a*c)**0.5)/(2*a)\n",
    "    x2 = (-b-(b**2-4*a*c)**0.5/(2*a))\n",
    "    print(\"a:\", x1, x2)\n",
    "\n",
    "    #B\n",
    "    x1 = 2*c/(-b + (b**2-4*a*c)**0.5)\n",
    "    x2 = 2*c / (-b - (b**2-4*a*c)**0.5)\n",
    "    print(\"b:\", x1, x2)\n",
    "\n",
    "    #C\n",
    "    if b > 0:\n",
    "        x1 = (-b-(b**2-4*a*c)**0.5)/(2*a)\n",
    "        x2 = (2*c) / (-b - (b**2-4*a*c)**0.5)\n",
    "    else:\n",
    "        x1 = 2*c/(-b + (b**2-4*a*c)**0.5)\n",
    "        x2 = (-b+(b**2-4*a*c)**0.5/(2*a))\n",
    "    print(\"c\", x1, x2)\n",
    "\n",
    "\n",
    "quadratic_formula(0.001, 1000, 0.001)"
   ]
  },
  {
   "cell_type": "markdown",
   "metadata": {},
   "source": [
    "6\\. Write a program that implements the function $f(x)=x(x−1)$\n",
    "\n",
    "(a) Calculate the derivative of the function at the point $x = 1$ using the derivative definition:\n",
    "\n",
    "$$\n",
    "\\frac{{\\rm d}f}{{\\rm d}x} = \\lim_{\\delta\\to0} \\frac{f(x+\\delta)-f(x)}{\\delta}\n",
    "$$\n",
    "\n",
    "with $\\delta = 10^{−2}$. Calculate the true value of the same derivative analytically and compare with the answer your program gives. The two will not agree perfectly. Why not?\n",
    "\n",
    "(b) Repeat the calculation for $\\delta = 10^{−4}, 10^{−6}, 10^{−8}, 10^{−10}, 10^{−12}$ and $10^{−14}$. How does the accuracy scales with $\\delta$?"
   ]
  },
  {
   "cell_type": "code",
   "execution_count": 69,
   "metadata": {},
   "outputs": [
    {
     "name": "stdout",
     "output_type": "stream",
     "text": [
      "1.010000000000001\n",
      "[0.010000000000000897, 9.999999988985486e-05, 9.99917733279787e-07, 3.922528746258536e-09, 8.890058334132256e-05, 0.0007992778373491216]\n"
     ]
    }
   ],
   "source": [
    "f = lambda x: x*(x-1)\n",
    "df = lambda f, x, delta: (f(x+delta)-f(x))/delta\n",
    "\n",
    "#A\n",
    "delta = 10**-2\n",
    "x = 1\n",
    "print(df(f, x, delta))\n",
    "\n",
    "#B\n",
    "deltas = [10**-2, 10**-4, 10**-6, 10**-8, 10**-12, 10**-14]\n",
    "acc = [abs(1-df(f, x, delta)) for delta in deltas]\n",
    "print(acc)"
   ]
  },
  {
   "cell_type": "code",
   "execution_count": 70,
   "metadata": {},
   "outputs": [
    {
     "data": {
      "text/plain": [
       "Text(0, 0.5, 'Acc')"
      ]
     },
     "execution_count": 70,
     "metadata": {},
     "output_type": "execute_result"
    },
    {
     "data": {
      "image/png": "[encoded data removed]",
      "text/plain": [
       "<Figure size 640x480 with 1 Axes>"
      ]
     },
     "metadata": {},
     "output_type": "display_data"
    }
   ],
   "source": [
    "import matplotlib.pyplot as plt\n",
    "plt.loglog()\n",
    "plt.plot(deltas, acc)\n",
    "plt.xlabel(r\"$\\delta$\")\n",
    "plt.ylabel(\"Acc\")"
   ]
  },
  {
   "cell_type": "markdown",
   "metadata": {},
   "source": [
    "7\\. Consider the integral of the semicircle of radius 1:\n",
    "$$\n",
    "I=\\int_{-1}^{1} \\sqrt(1-x^2) {\\rm d}x\n",
    "$$\n",
    "which it's known to be $I=\\frac{\\pi}{2}=1.57079632679...$.\n",
    "Alternatively we can use the Riemann definition of the integral:\n",
    "$$\n",
    "I=\\lim_{N\\to\\infty} \\sum_{k=1}^{N} h y_k \n",
    "$$\n",
    "\n",
    "with $h=2/N$ the width of each of the $N$ slices the domain is divided into and where\n",
    "$y_k$ is the value of the function at the $k-$th slice.\n",
    "\n",
    "(a) Write a programe to compute the integral with $N=100$. How does the result compares to the true value?\n",
    "\n",
    "(b) How much can $N$ be increased if the computation needs to be run in less than a second? What is the gain in running it for 1 minute? \n"
   ]
  },
  {
   "cell_type": "code",
   "execution_count": 62,
   "metadata": {},
   "outputs": [
    {
     "name": "stdout",
     "output_type": "stream",
     "text": [
      "-0.0016620712456461018\n"
     ]
    }
   ],
   "source": [
    "from math import pi\n",
    "\n",
    "f = lambda x: (1-x**2)**0.5\n",
    "N = 100\n",
    "h = 2/N\n",
    "\n",
    "#A\n",
    "x_range = [i*h -1 for i in range(N+1)]\n",
    "\n",
    "def integrate(f, N):\n",
    "    x_range = [i*h -1 for i in range(N+1)]\n",
    "    integral = sum([f(x)*2/N for x in x_range])\n",
    "    return integral\n",
    "integral = integrate(f, N)\n",
    "print(integral - pi/2)\n",
    "\n",
    "#B\n",
    "import time as tm\n",
    "N_range = []\n",
    "times = []\n",
    "acc = []\n",
    "\n",
    "while True:\n",
    "    # Time\n",
    "    start = tm.time()\n",
    "    integral = integrate(f, N)\n",
    "    stop = tm.time()\n",
    "\n",
    "    #Results \n",
    "    times.append(stop-start)\n",
    "    N_range.append(N)\n",
    "    acc.append(abs(integral - pi/2))\n",
    "    N *= 2\n",
    "\n",
    "    #Break\n",
    "    if stop-start > 60: #s\n",
    "        break"
   ]
  },
  {
   "cell_type": "code",
   "execution_count": 64,
   "metadata": {},
   "outputs": [
    {
     "data": {
      "text/plain": [
       "[<matplotlib.lines.Line2D at 0x21e4d66ca90>]"
      ]
     },
     "execution_count": 64,
     "metadata": {},
     "output_type": "execute_result"
    },
    {
     "data": {
      "image/png": "[encoded data removed]",
      "text/plain": [
       "<Figure size 640x480 with 1 Axes>"
      ]
     },
     "metadata": {},
     "output_type": "display_data"
    }
   ],
   "source": [
    "import matplotlib.pyplot as plt\n",
    "plt.loglog()\n",
    "plt.xlabel(\"Time\")\n",
    "plt.ylabel(\"Accuracy\")\n",
    "plt.plot(times, acc)"
   ]
  },
  {
   "cell_type": "code",
   "execution_count": 71,
   "metadata": {},
   "outputs": [
    {
     "name": "stdout",
     "output_type": "stream",
     "text": [
      "104857600\n"
     ]
    }
   ],
   "source": [
    "print(N_range[-1])"
   ]
  },
  {
   "cell_type": "code",
   "execution_count": null,
   "metadata": {},
   "outputs": [],
   "source": []
  }
 ],
 "metadata": {
  "kernelspec": {
   "display_name": "Python 3 (ipykernel)",
   "language": "python",
   "name": "python3"
  },
  "language_info": {
   "codemirror_mode": {
    "name": "ipython",
    "version": 3
   },
   "file_extension": ".py",
   "mimetype": "text/x-python",
   "name": "python",
   "nbconvert_exporter": "python",
   "pygments_lexer": "ipython3",
   "version": "3.11.1"
  }
 },
 "nbformat": 4,
 "nbformat_minor": 2
}
