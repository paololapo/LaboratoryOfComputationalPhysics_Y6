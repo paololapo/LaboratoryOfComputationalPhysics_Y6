{
 "cells": [
  {
   "cell_type": "markdown",
   "metadata": {},
   "source": [
    "# OSEMN Exercises"
   ]
  },
  {
   "cell_type": "code",
   "execution_count": 1,
   "metadata": {},
   "outputs": [],
   "source": [
    "%matplotlib inline\n",
    "import pandas as pd\n",
    "import numpy as np"
   ]
  },
  {
   "cell_type": "markdown",
   "metadata": {},
   "source": [
    "1\\. Create a random list of number and then save it to a text file named \"simple_data.txt\""
   ]
  },
  {
   "cell_type": "code",
   "execution_count": 3,
   "metadata": {},
   "outputs": [],
   "source": [
    "rand = np.random.random(100)\n",
    "file_name = \"./simple_data.txt\"\n",
    "\n",
    "f = open(file_name, mode=\"w\")\n",
    "for r in rand:\n",
    "    f.write(str(r) + \"\\n\")\n",
    "f.close()\n"
   ]
  },
  {
   "cell_type": "markdown",
   "metadata": {},
   "source": [
    "2\\. Create a random matrix of 5x5 and then save it to a text file named \"data.txt\""
   ]
  },
  {
   "cell_type": "code",
   "execution_count": 4,
   "metadata": {},
   "outputs": [],
   "source": [
    "M = np.random.random(size=(5, 5))\n",
    "f = open(\"./data.txt\", mode=\"w\")\n",
    "\n",
    "for row in M:\n",
    "    for c in row:\n",
    "        f.write(str(c) + \" \")\n",
    "    f.write(\"\\n\")\n",
    "f.close()"
   ]
  },
  {
   "cell_type": "markdown",
   "metadata": {},
   "source": [
    "3\\. Load the saved txt file of point 2 and convert it to a csv file (by hand)"
   ]
  },
  {
   "cell_type": "code",
   "execution_count": 5,
   "metadata": {},
   "outputs": [],
   "source": [
    "import csv\n",
    "f2 = open(\"./data.csv\", mode=\"w\", newline=\"\")\n",
    "writer = csv.writer(f2)\n",
    "\n",
    "with open(\"./data.txt\", mode=\"r\") as f1:\n",
    "    for line in f1:\n",
    "        a = [c for c in line.split(\" \")]\n",
    "        a = [float(c) for c in a[:-1]]\n",
    "        writer.writerow(a)\n",
    "\n",
    "f1.close()\n",
    "f2.close()      "
   ]
  },
  {
   "cell_type": "markdown",
   "metadata": {},
   "source": [
    "4\\. load the binary file named *credit_card.dat* and convert the data into the real credit-card number.\n",
    "Each line correspond to a credit card number.\n",
    "Each character is composed by 6 bit (even the space) and the last 4 bit are just a padding\n",
    "\n",
    "**hint**: use the `chr()` function to convert a number to a char"
   ]
  },
  {
   "cell_type": "code",
   "execution_count": 9,
   "metadata": {},
   "outputs": [
    {
     "data": {
      "text/plain": [
       "'7648 5673 3775 2271'"
      ]
     },
     "execution_count": 9,
     "metadata": {},
     "output_type": "execute_result"
    }
   ],
   "source": [
    "line = \"1101111101101101001110001000001101011101101101111100111000001100111101111101111101011000001100101100101101111100011010\"\n",
    "\n",
    "def convert_line(line):\n",
    "    characters = []\n",
    "    for i in range(19):\n",
    "        num = line[6*i:6*i+6]\n",
    "        characters.append(chr(int(num, 2)))\n",
    "        #string.append(chr(int(num, 2)))\n",
    "    string = ''.join(characters)\n",
    "    return string\n",
    "\n",
    "convert_line(line)"
   ]
  },
  {
   "cell_type": "code",
   "execution_count": 10,
   "metadata": {},
   "outputs": [
    {
     "data": {
      "text/plain": [
       "['7648 5673 3775 2271',\n",
       " '3257 8247 3354 2266',\n",
       " '2722 0001 4011 6652',\n",
       " '0661 3063 3742 3150',\n",
       " '0432 1608 1462 4742',\n",
       " '5827 2027 8785 7303',\n",
       " '5774 8528 2087 1117',\n",
       " '8140 1210 6352 2845',\n",
       " '5764 1133 7301 7100',\n",
       " '6456 1737 4126 6726',\n",
       " '1228 8631 7382 0000',\n",
       " '7051 0160 5374 3166',\n",
       " '0618 3587 1630 6376',\n",
       " '1545 5454 7444 5636',\n",
       " '6735 3116 3202 6834',\n",
       " '7287 5011 1547 8413',\n",
       " '7033 2607 3328 4200',\n",
       " '2568 5244 1874 5024',\n",
       " '1684 2253 7570 7118',\n",
       " '0672 2576 0575 6631',\n",
       " '6332 8353 8787 1340',\n",
       " '1813 3361 1175 4211',\n",
       " '2477 6450 8840 2368',\n",
       " '5512 3505 2563 1326',\n",
       " '3083 7882 0621 0025',\n",
       " '4521 5148 8045 0334',\n",
       " '7563 3654 8713 5787',\n",
       " '8324 2664 0476 5561',\n",
       " '0565 2504 7168 3510',\n",
       " '5107 5507 1767 0738',\n",
       " '2462 1821 2448 1443',\n",
       " '2788 0638 6861 6554',\n",
       " '5851 5873 5474 0547',\n",
       " '0670 1004 4013 2655',\n",
       " '5874 5506 3048 0806',\n",
       " '2805 5401 8462 1260',\n",
       " '5083 8406 6310 1862',\n",
       " '1076 1445 3013 2266',\n",
       " '8440 4804 4844 5277',\n",
       " '4758 6141 0686 1387',\n",
       " '7586 0675 0315 2568',\n",
       " '2544 1258 7432 5165',\n",
       " '3474 5023 4434 5626',\n",
       " '1410 0270 0434 5086',\n",
       " '7315 4446 1104 4215',\n",
       " '0224 7742 8300 0266',\n",
       " '0170 2700 3145 0640',\n",
       " '2006 2437 8054 1600',\n",
       " '8142 4055 1776 0026',\n",
       " '3026 7380 1241 1084']"
      ]
     },
     "execution_count": 10,
     "metadata": {},
     "output_type": "execute_result"
    }
   ],
   "source": [
    "f = open(\"./credit_card.dat\", \"r\")\n",
    "lines = []\n",
    "for line in f:\n",
    "    lines.append(line[:-1])\n",
    "lines = lines[:-1]\n",
    "\n",
    "cards = [convert_line(line) for line in lines]\n",
    "cards"
   ]
  },
  {
   "cell_type": "markdown",
   "metadata": {},
   "source": [
    "5\\. Load the file \"user_data.json\", filter the data by the \"CreditCardType\" field equals to \"American Express\". Than save the data a to CSV."
   ]
  },
  {
   "cell_type": "code",
   "execution_count": 10,
   "metadata": {},
   "outputs": [],
   "source": [
    "data = pd.read_json(\"./user_data.json\")\n",
    "data = data[data[\"CreditCardType\"] == \"American Express\"]\n",
    "data.to_csv(\"american_express.csv\")\n",
    "del data"
   ]
  },
  {
   "cell_type": "markdown",
   "metadata": {},
   "source": [
    "6\\. Load the file from this url: [https://www.dropbox.com/s/7u3lm737ogbqsg8/mushrooms_categorized.csv?dl=1](https://www.dropbox.com/s/7u3lm737ogbqsg8/mushrooms_categorized.csv?dl=1) with Pandas. \n",
    "+ Explore the data (see the info of the data)\n",
    "+ Draw the istogram of the 'class' field. Decribe wath yuou see\n"
   ]
  },
  {
   "cell_type": "code",
   "execution_count": 13,
   "metadata": {},
   "outputs": [
    {
     "data": {
      "text/html": [
       "<div>\n",
       "<style scoped>\n",
       "    .dataframe tbody tr th:only-of-type {\n",
       "        vertical-align: middle;\n",
       "    }\n",
       "\n",
       "    .dataframe tbody tr th {\n",
       "        vertical-align: top;\n",
       "    }\n",
       "\n",
       "    .dataframe thead th {\n",
       "        text-align: right;\n",
       "    }\n",
       "</style>\n",
       "<table border=\"1\" class=\"dataframe\">\n",
       "  <thead>\n",
       "    <tr style=\"text-align: right;\">\n",
       "      <th></th>\n",
       "      <th>class</th>\n",
       "      <th>cap-shape</th>\n",
       "      <th>cap-surface</th>\n",
       "      <th>cap-color</th>\n",
       "      <th>bruises</th>\n",
       "      <th>odor</th>\n",
       "      <th>gill-attachment</th>\n",
       "      <th>gill-spacing</th>\n",
       "      <th>gill-size</th>\n",
       "      <th>gill-color</th>\n",
       "      <th>...</th>\n",
       "      <th>stalk-surface-below-ring</th>\n",
       "      <th>stalk-color-above-ring</th>\n",
       "      <th>stalk-color-below-ring</th>\n",
       "      <th>veil-type</th>\n",
       "      <th>veil-color</th>\n",
       "      <th>ring-number</th>\n",
       "      <th>ring-type</th>\n",
       "      <th>spore-print-color</th>\n",
       "      <th>population</th>\n",
       "      <th>habitat</th>\n",
       "    </tr>\n",
       "  </thead>\n",
       "  <tbody>\n",
       "    <tr>\n",
       "      <th>0</th>\n",
       "      <td>1</td>\n",
       "      <td>5</td>\n",
       "      <td>2</td>\n",
       "      <td>4</td>\n",
       "      <td>1</td>\n",
       "      <td>6</td>\n",
       "      <td>1</td>\n",
       "      <td>0</td>\n",
       "      <td>1</td>\n",
       "      <td>4</td>\n",
       "      <td>...</td>\n",
       "      <td>2</td>\n",
       "      <td>7</td>\n",
       "      <td>7</td>\n",
       "      <td>0</td>\n",
       "      <td>2</td>\n",
       "      <td>1</td>\n",
       "      <td>4</td>\n",
       "      <td>2</td>\n",
       "      <td>3</td>\n",
       "      <td>5</td>\n",
       "    </tr>\n",
       "    <tr>\n",
       "      <th>1</th>\n",
       "      <td>0</td>\n",
       "      <td>5</td>\n",
       "      <td>2</td>\n",
       "      <td>9</td>\n",
       "      <td>1</td>\n",
       "      <td>0</td>\n",
       "      <td>1</td>\n",
       "      <td>0</td>\n",
       "      <td>0</td>\n",
       "      <td>4</td>\n",
       "      <td>...</td>\n",
       "      <td>2</td>\n",
       "      <td>7</td>\n",
       "      <td>7</td>\n",
       "      <td>0</td>\n",
       "      <td>2</td>\n",
       "      <td>1</td>\n",
       "      <td>4</td>\n",
       "      <td>3</td>\n",
       "      <td>2</td>\n",
       "      <td>1</td>\n",
       "    </tr>\n",
       "  </tbody>\n",
       "</table>\n",
       "<p>2 rows × 23 columns</p>\n",
       "</div>"
      ],
      "text/plain": [
       "   class  cap-shape  cap-surface  cap-color  bruises  odor  gill-attachment  \\\n",
       "0      1          5            2          4        1     6                1   \n",
       "1      0          5            2          9        1     0                1   \n",
       "\n",
       "   gill-spacing  gill-size  gill-color  ...  stalk-surface-below-ring  \\\n",
       "0             0          1           4  ...                         2   \n",
       "1             0          0           4  ...                         2   \n",
       "\n",
       "   stalk-color-above-ring  stalk-color-below-ring  veil-type  veil-color  \\\n",
       "0                       7                       7          0           2   \n",
       "1                       7                       7          0           2   \n",
       "\n",
       "   ring-number  ring-type  spore-print-color  population  habitat  \n",
       "0            1          4                  2           3        5  \n",
       "1            1          4                  3           2        1  \n",
       "\n",
       "[2 rows x 23 columns]"
      ]
     },
     "execution_count": 13,
     "metadata": {},
     "output_type": "execute_result"
    }
   ],
   "source": [
    "data = pd.read_csv(\"https://www.dropbox.com/s/7u3lm737ogbqsg8/mushrooms_categorized.csv?dl=1\")\n",
    "data.head(2)"
   ]
  },
  {
   "cell_type": "code",
   "execution_count": 15,
   "metadata": {},
   "outputs": [
    {
     "data": {
      "image/png": "[encoded data removed]",
      "text/plain": [
       "<Figure size 640x480 with 1 Axes>"
      ]
     },
     "metadata": {},
     "output_type": "display_data"
    }
   ],
   "source": [
    "import matplotlib.pyplot as plt\n",
    "plt.hist(data[\"class\"])\n",
    "del data"
   ]
  },
  {
   "cell_type": "markdown",
   "metadata": {},
   "source": [
    "7\\. Load the remote file [https://www.dropbox.com/s/vkl89yce7xjdq4n/regression_generated.csv?dl=1](https://www.dropbox.com/s/vkl89yce7xjdq4n/regression_generated.csv?dl=1) with Pandas and plot a scatter plot all possible combination of the following fields:\n",
    "    \n",
    "  + features_1\n",
    "  + features_2\n",
    "  + features_3"
   ]
  },
  {
   "cell_type": "code",
   "execution_count": 16,
   "metadata": {},
   "outputs": [
    {
     "data": {
      "text/html": [
       "<div>\n",
       "<style scoped>\n",
       "    .dataframe tbody tr th:only-of-type {\n",
       "        vertical-align: middle;\n",
       "    }\n",
       "\n",
       "    .dataframe tbody tr th {\n",
       "        vertical-align: top;\n",
       "    }\n",
       "\n",
       "    .dataframe thead th {\n",
       "        text-align: right;\n",
       "    }\n",
       "</style>\n",
       "<table border=\"1\" class=\"dataframe\">\n",
       "  <thead>\n",
       "    <tr style=\"text-align: right;\">\n",
       "      <th></th>\n",
       "      <th>label</th>\n",
       "      <th>features_1</th>\n",
       "      <th>features_2</th>\n",
       "      <th>features_3</th>\n",
       "      <th>features_4</th>\n",
       "      <th>features_5</th>\n",
       "      <th>features_6</th>\n",
       "      <th>features_7</th>\n",
       "      <th>features_8</th>\n",
       "      <th>features_9</th>\n",
       "      <th>...</th>\n",
       "      <th>features_11</th>\n",
       "      <th>features_12</th>\n",
       "      <th>features_13</th>\n",
       "      <th>features_14</th>\n",
       "      <th>features_15</th>\n",
       "      <th>features_16</th>\n",
       "      <th>features_17</th>\n",
       "      <th>features_18</th>\n",
       "      <th>features_19</th>\n",
       "      <th>features_20</th>\n",
       "    </tr>\n",
       "  </thead>\n",
       "  <tbody>\n",
       "    <tr>\n",
       "      <th>0</th>\n",
       "      <td>-89.243497</td>\n",
       "      <td>2.175170</td>\n",
       "      <td>-0.285786</td>\n",
       "      <td>-0.603396</td>\n",
       "      <td>-0.627453</td>\n",
       "      <td>-0.686474</td>\n",
       "      <td>0.381067</td>\n",
       "      <td>0.306205</td>\n",
       "      <td>-0.637447</td>\n",
       "      <td>-1.332087</td>\n",
       "      <td>...</td>\n",
       "      <td>1.290725</td>\n",
       "      <td>1.047483</td>\n",
       "      <td>-1.055467</td>\n",
       "      <td>0.853204</td>\n",
       "      <td>0.038665</td>\n",
       "      <td>-0.752959</td>\n",
       "      <td>0.57792</td>\n",
       "      <td>-0.657400</td>\n",
       "      <td>1.367308</td>\n",
       "      <td>0.570199</td>\n",
       "    </tr>\n",
       "    <tr>\n",
       "      <th>1</th>\n",
       "      <td>230.050125</td>\n",
       "      <td>1.481941</td>\n",
       "      <td>-1.327870</td>\n",
       "      <td>-0.543583</td>\n",
       "      <td>-0.303578</td>\n",
       "      <td>1.552964</td>\n",
       "      <td>0.549738</td>\n",
       "      <td>-0.763094</td>\n",
       "      <td>-0.455796</td>\n",
       "      <td>2.053388</td>\n",
       "      <td>...</td>\n",
       "      <td>-1.761306</td>\n",
       "      <td>-0.934284</td>\n",
       "      <td>-1.050999</td>\n",
       "      <td>0.444026</td>\n",
       "      <td>-0.037959</td>\n",
       "      <td>1.061624</td>\n",
       "      <td>-1.56987</td>\n",
       "      <td>2.410696</td>\n",
       "      <td>1.113594</td>\n",
       "      <td>2.329479</td>\n",
       "    </tr>\n",
       "  </tbody>\n",
       "</table>\n",
       "<p>2 rows × 21 columns</p>\n",
       "</div>"
      ],
      "text/plain": [
       "        label  features_1  features_2  features_3  features_4  features_5  \\\n",
       "0  -89.243497    2.175170   -0.285786   -0.603396   -0.627453   -0.686474   \n",
       "1  230.050125    1.481941   -1.327870   -0.543583   -0.303578    1.552964   \n",
       "\n",
       "   features_6  features_7  features_8  features_9  ...  features_11  \\\n",
       "0    0.381067    0.306205   -0.637447   -1.332087  ...     1.290725   \n",
       "1    0.549738   -0.763094   -0.455796    2.053388  ...    -1.761306   \n",
       "\n",
       "   features_12  features_13  features_14  features_15  features_16  \\\n",
       "0     1.047483    -1.055467     0.853204     0.038665    -0.752959   \n",
       "1    -0.934284    -1.050999     0.444026    -0.037959     1.061624   \n",
       "\n",
       "   features_17  features_18  features_19  features_20  \n",
       "0      0.57792    -0.657400     1.367308     0.570199  \n",
       "1     -1.56987     2.410696     1.113594     2.329479  \n",
       "\n",
       "[2 rows x 21 columns]"
      ]
     },
     "execution_count": 16,
     "metadata": {},
     "output_type": "execute_result"
    }
   ],
   "source": [
    "data = pd.read_csv(\"https://www.dropbox.com/s/vkl89yce7xjdq4n/regression_generated.csv?dl=1\")\n",
    "data.head(2)"
   ]
  },
  {
   "cell_type": "code",
   "execution_count": 19,
   "metadata": {},
   "outputs": [
    {
     "data": {
      "text/plain": [
       "Text(0, 0.5, 'f3')"
      ]
     },
     "execution_count": 19,
     "metadata": {},
     "output_type": "execute_result"
    },
    {
     "data": {
      "image/png": "[encoded data removed]",
      "text/plain": [
       "<Figure size 1400x500 with 3 Axes>"
      ]
     },
     "metadata": {},
     "output_type": "display_data"
    }
   ],
   "source": [
    "plt.figure(figsize=(14, 5))\n",
    "plt.subplot(131)\n",
    "plt.scatter(data[\"features_1\"], data[\"features_2\"])\n",
    "plt.xlabel(\"f1\")\n",
    "plt.ylabel(\"f2\")\n",
    "plt.subplot(132)\n",
    "plt.scatter(data[\"features_1\"], data[\"features_3\"])\n",
    "plt.xlabel(\"f1\")\n",
    "plt.ylabel(\"f3\")\n",
    "plt.subplot(133)\n",
    "plt.scatter(data[\"features_2\"], data[\"features_3\"])\n",
    "plt.xlabel(\"f2\")\n",
    "plt.ylabel(\"f3\")"
   ]
  },
  {
   "cell_type": "markdown",
   "metadata": {},
   "source": [
    "8\\. Load the same file of point 6, and convert the file to json with Pandas."
   ]
  },
  {
   "cell_type": "code",
   "execution_count": 20,
   "metadata": {},
   "outputs": [],
   "source": [
    "data = pd.read_csv(\"https://www.dropbox.com/s/vkl89yce7xjdq4n/regression_generated.csv?dl=1\")\n",
    "data.to_json(\"reg.json\")\n",
    "del data"
   ]
  },
  {
   "cell_type": "code",
   "execution_count": null,
   "metadata": {},
   "outputs": [],
   "source": []
  }
 ],
 "metadata": {
  "kernelspec": {
   "display_name": "Python 3 (ipykernel)",
   "language": "python",
   "name": "python3"
  },
  "language_info": {
   "codemirror_mode": {
    "name": "ipython",
    "version": 3
   },
   "file_extension": ".py",
   "mimetype": "text/x-python",
   "name": "python",
   "nbconvert_exporter": "python",
   "pygments_lexer": "ipython3",
   "version": "3.11.1"
  }
 },
 "nbformat": 4,
 "nbformat_minor": 2
}
